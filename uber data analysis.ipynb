{
 "cells": [
  {
   "cell_type": "code",
   "execution_count": 303,
   "metadata": {},
   "outputs": [],
   "source": [
    "## Working with 4 millions of Data of Uber!!"
   ]
  },
  {
   "cell_type": "code",
   "execution_count": 1,
   "metadata": {},
   "outputs": [
    {
     "data": {
      "text/plain": [
       "'C:\\\\Users\\\\shaqu\\\\Untitled Folder'"
      ]
     },
     "execution_count": 1,
     "metadata": {},
     "output_type": "execute_result"
    }
   ],
   "source": [
    "pwd"
   ]
  },
  {
   "cell_type": "code",
   "execution_count": 2,
   "metadata": {},
   "outputs": [
    {
     "name": "stdout",
     "output_type": "stream",
     "text": [
      "C:\\Users\\shaqu\\Desktop\\Data Science Projects\\uber data analysis\n"
     ]
    }
   ],
   "source": [
    "cd C:\\Users\\shaqu\\Desktop\\Data Science Projects\\uber data analysis"
   ]
  },
  {
   "cell_type": "code",
   "execution_count": 107,
   "metadata": {},
   "outputs": [
    {
     "name": "stdout",
     "output_type": "stream",
     "text": [
      "Populating the interactive namespace from numpy and matplotlib\n"
     ]
    }
   ],
   "source": [
    "import pandas as pd\n",
    "import numpy as np\n",
    "import seaborn as sns\n",
    "import matplotlib.pyplot as plt\n",
    "%matplotlib inline\n",
    "%pylab inline"
   ]
  },
  {
   "cell_type": "code",
   "execution_count": 6,
   "metadata": {},
   "outputs": [],
   "source": [
    "df= pd.read_csv('uber-raw-data-apr14.csv')"
   ]
  },
  {
   "cell_type": "code",
   "execution_count": 7,
   "metadata": {},
   "outputs": [
    {
     "data": {
      "text/html": [
       "<div>\n",
       "<style scoped>\n",
       "    .dataframe tbody tr th:only-of-type {\n",
       "        vertical-align: middle;\n",
       "    }\n",
       "\n",
       "    .dataframe tbody tr th {\n",
       "        vertical-align: top;\n",
       "    }\n",
       "\n",
       "    .dataframe thead th {\n",
       "        text-align: right;\n",
       "    }\n",
       "</style>\n",
       "<table border=\"1\" class=\"dataframe\">\n",
       "  <thead>\n",
       "    <tr style=\"text-align: right;\">\n",
       "      <th></th>\n",
       "      <th>Date/Time</th>\n",
       "      <th>Lat</th>\n",
       "      <th>Lon</th>\n",
       "      <th>Base</th>\n",
       "    </tr>\n",
       "  </thead>\n",
       "  <tbody>\n",
       "    <tr>\n",
       "      <td>0</td>\n",
       "      <td>4/1/2014 0:11:00</td>\n",
       "      <td>40.7690</td>\n",
       "      <td>-73.9549</td>\n",
       "      <td>B02512</td>\n",
       "    </tr>\n",
       "    <tr>\n",
       "      <td>1</td>\n",
       "      <td>4/1/2014 0:17:00</td>\n",
       "      <td>40.7267</td>\n",
       "      <td>-74.0345</td>\n",
       "      <td>B02512</td>\n",
       "    </tr>\n",
       "    <tr>\n",
       "      <td>2</td>\n",
       "      <td>4/1/2014 0:21:00</td>\n",
       "      <td>40.7316</td>\n",
       "      <td>-73.9873</td>\n",
       "      <td>B02512</td>\n",
       "    </tr>\n",
       "    <tr>\n",
       "      <td>3</td>\n",
       "      <td>4/1/2014 0:28:00</td>\n",
       "      <td>40.7588</td>\n",
       "      <td>-73.9776</td>\n",
       "      <td>B02512</td>\n",
       "    </tr>\n",
       "    <tr>\n",
       "      <td>4</td>\n",
       "      <td>4/1/2014 0:33:00</td>\n",
       "      <td>40.7594</td>\n",
       "      <td>-73.9722</td>\n",
       "      <td>B02512</td>\n",
       "    </tr>\n",
       "    <tr>\n",
       "      <td>...</td>\n",
       "      <td>...</td>\n",
       "      <td>...</td>\n",
       "      <td>...</td>\n",
       "      <td>...</td>\n",
       "    </tr>\n",
       "    <tr>\n",
       "      <td>564511</td>\n",
       "      <td>4/30/2014 23:22:00</td>\n",
       "      <td>40.7640</td>\n",
       "      <td>-73.9744</td>\n",
       "      <td>B02764</td>\n",
       "    </tr>\n",
       "    <tr>\n",
       "      <td>564512</td>\n",
       "      <td>4/30/2014 23:26:00</td>\n",
       "      <td>40.7629</td>\n",
       "      <td>-73.9672</td>\n",
       "      <td>B02764</td>\n",
       "    </tr>\n",
       "    <tr>\n",
       "      <td>564513</td>\n",
       "      <td>4/30/2014 23:31:00</td>\n",
       "      <td>40.7443</td>\n",
       "      <td>-73.9889</td>\n",
       "      <td>B02764</td>\n",
       "    </tr>\n",
       "    <tr>\n",
       "      <td>564514</td>\n",
       "      <td>4/30/2014 23:32:00</td>\n",
       "      <td>40.6756</td>\n",
       "      <td>-73.9405</td>\n",
       "      <td>B02764</td>\n",
       "    </tr>\n",
       "    <tr>\n",
       "      <td>564515</td>\n",
       "      <td>4/30/2014 23:48:00</td>\n",
       "      <td>40.6880</td>\n",
       "      <td>-73.9608</td>\n",
       "      <td>B02764</td>\n",
       "    </tr>\n",
       "  </tbody>\n",
       "</table>\n",
       "<p>564516 rows × 4 columns</p>\n",
       "</div>"
      ],
      "text/plain": [
       "                 Date/Time      Lat      Lon    Base\n",
       "0         4/1/2014 0:11:00  40.7690 -73.9549  B02512\n",
       "1         4/1/2014 0:17:00  40.7267 -74.0345  B02512\n",
       "2         4/1/2014 0:21:00  40.7316 -73.9873  B02512\n",
       "3         4/1/2014 0:28:00  40.7588 -73.9776  B02512\n",
       "4         4/1/2014 0:33:00  40.7594 -73.9722  B02512\n",
       "...                    ...      ...      ...     ...\n",
       "564511  4/30/2014 23:22:00  40.7640 -73.9744  B02764\n",
       "564512  4/30/2014 23:26:00  40.7629 -73.9672  B02764\n",
       "564513  4/30/2014 23:31:00  40.7443 -73.9889  B02764\n",
       "564514  4/30/2014 23:32:00  40.6756 -73.9405  B02764\n",
       "564515  4/30/2014 23:48:00  40.6880 -73.9608  B02764\n",
       "\n",
       "[564516 rows x 4 columns]"
      ]
     },
     "execution_count": 7,
     "metadata": {},
     "output_type": "execute_result"
    }
   ],
   "source": [
    "df"
   ]
  },
  {
   "cell_type": "markdown",
   "metadata": {},
   "source": [
    "lat ~ The latitude of the Uber pickup\n",
    "\n",
    "\n",
    "lon ~ The longitude of the Uber pickup\n",
    "\n",
    "\n",
    "base ~  The TLC base company code affiliated with the Uber pickup"
   ]
  },
  {
   "cell_type": "code",
   "execution_count": 8,
   "metadata": {},
   "outputs": [
    {
     "data": {
      "text/plain": [
       "0           4/1/2014 0:11:00\n",
       "1           4/1/2014 0:17:00\n",
       "2           4/1/2014 0:21:00\n",
       "3           4/1/2014 0:28:00\n",
       "4           4/1/2014 0:33:00\n",
       "                 ...        \n",
       "564511    4/30/2014 23:22:00\n",
       "564512    4/30/2014 23:26:00\n",
       "564513    4/30/2014 23:31:00\n",
       "564514    4/30/2014 23:32:00\n",
       "564515    4/30/2014 23:48:00\n",
       "Name: Date/Time, Length: 564516, dtype: object"
      ]
     },
     "execution_count": 8,
     "metadata": {},
     "output_type": "execute_result"
    }
   ],
   "source": [
    "df['Date/Time']"
   ]
  },
  {
   "cell_type": "code",
   "execution_count": 18,
   "metadata": {},
   "outputs": [
    {
     "name": "stdout",
     "output_type": "stream",
     "text": [
      "<class 'pandas.core.frame.DataFrame'>\n",
      "RangeIndex: 564516 entries, 0 to 564515\n",
      "Data columns (total 4 columns):\n",
      "Date/Time    564516 non-null object\n",
      "Lat          564516 non-null float64\n",
      "Lon          564516 non-null float64\n",
      "Base         564516 non-null object\n",
      "dtypes: float64(2), object(2)\n",
      "memory usage: 17.2+ MB\n"
     ]
    }
   ],
   "source": [
    "df.info()"
   ]
  },
  {
   "cell_type": "code",
   "execution_count": 10,
   "metadata": {},
   "outputs": [
    {
     "data": {
      "text/html": [
       "<div>\n",
       "<style scoped>\n",
       "    .dataframe tbody tr th:only-of-type {\n",
       "        vertical-align: middle;\n",
       "    }\n",
       "\n",
       "    .dataframe tbody tr th {\n",
       "        vertical-align: top;\n",
       "    }\n",
       "\n",
       "    .dataframe thead th {\n",
       "        text-align: right;\n",
       "    }\n",
       "</style>\n",
       "<table border=\"1\" class=\"dataframe\">\n",
       "  <thead>\n",
       "    <tr style=\"text-align: right;\">\n",
       "      <th></th>\n",
       "      <th>Lat</th>\n",
       "      <th>Lon</th>\n",
       "    </tr>\n",
       "  </thead>\n",
       "  <tbody>\n",
       "    <tr>\n",
       "      <td>count</td>\n",
       "      <td>564516.000000</td>\n",
       "      <td>564516.000000</td>\n",
       "    </tr>\n",
       "    <tr>\n",
       "      <td>mean</td>\n",
       "      <td>40.740005</td>\n",
       "      <td>-73.976817</td>\n",
       "    </tr>\n",
       "    <tr>\n",
       "      <td>std</td>\n",
       "      <td>0.036083</td>\n",
       "      <td>0.050426</td>\n",
       "    </tr>\n",
       "    <tr>\n",
       "      <td>min</td>\n",
       "      <td>40.072900</td>\n",
       "      <td>-74.773300</td>\n",
       "    </tr>\n",
       "    <tr>\n",
       "      <td>25%</td>\n",
       "      <td>40.722500</td>\n",
       "      <td>-73.997700</td>\n",
       "    </tr>\n",
       "    <tr>\n",
       "      <td>50%</td>\n",
       "      <td>40.742500</td>\n",
       "      <td>-73.984800</td>\n",
       "    </tr>\n",
       "    <tr>\n",
       "      <td>75%</td>\n",
       "      <td>40.760700</td>\n",
       "      <td>-73.970000</td>\n",
       "    </tr>\n",
       "    <tr>\n",
       "      <td>max</td>\n",
       "      <td>42.116600</td>\n",
       "      <td>-72.066600</td>\n",
       "    </tr>\n",
       "  </tbody>\n",
       "</table>\n",
       "</div>"
      ],
      "text/plain": [
       "                 Lat            Lon\n",
       "count  564516.000000  564516.000000\n",
       "mean       40.740005     -73.976817\n",
       "std         0.036083       0.050426\n",
       "min        40.072900     -74.773300\n",
       "25%        40.722500     -73.997700\n",
       "50%        40.742500     -73.984800\n",
       "75%        40.760700     -73.970000\n",
       "max        42.116600     -72.066600"
      ]
     },
     "execution_count": 10,
     "metadata": {},
     "output_type": "execute_result"
    }
   ],
   "source": [
    "df.describe()"
   ]
  },
  {
   "cell_type": "code",
   "execution_count": 11,
   "metadata": {},
   "outputs": [
    {
     "data": {
      "text/plain": [
       "Date/Time    0\n",
       "Lat          0\n",
       "Lon          0\n",
       "Base         0\n",
       "dtype: int64"
      ]
     },
     "execution_count": 11,
     "metadata": {},
     "output_type": "execute_result"
    }
   ],
   "source": [
    "df.isnull().sum()"
   ]
  },
  {
   "cell_type": "code",
   "execution_count": 14,
   "metadata": {},
   "outputs": [
    {
     "data": {
      "text/plain": [
       "'4/1/2014 0:11:00'"
      ]
     },
     "execution_count": 14,
     "metadata": {},
     "output_type": "execute_result"
    }
   ],
   "source": [
    "dt= '4/1/2014 0:11:00'\n",
    "dt"
   ]
  },
  {
   "cell_type": "code",
   "execution_count": 19,
   "metadata": {},
   "outputs": [],
   "source": [
    "d, t= dt.split(\" \")"
   ]
  },
  {
   "cell_type": "code",
   "execution_count": 28,
   "metadata": {},
   "outputs": [
    {
     "name": "stdout",
     "output_type": "stream",
     "text": [
      "4/1/2014\n",
      "0:11:00\n"
     ]
    }
   ],
   "source": [
    "print(d)\n",
    "print(t)"
   ]
  },
  {
   "cell_type": "code",
   "execution_count": 23,
   "metadata": {},
   "outputs": [
    {
     "data": {
      "text/plain": [
       "['4', '1', '2014']"
      ]
     },
     "execution_count": 23,
     "metadata": {},
     "output_type": "execute_result"
    }
   ],
   "source": [
    "d.split('/')"
   ]
  },
  {
   "cell_type": "code",
   "execution_count": 29,
   "metadata": {},
   "outputs": [
    {
     "data": {
      "text/plain": [
       "['0', '11', '00']"
      ]
     },
     "execution_count": 29,
     "metadata": {},
     "output_type": "execute_result"
    }
   ],
   "source": [
    "t.split(':')"
   ]
  },
  {
   "cell_type": "code",
   "execution_count": 30,
   "metadata": {},
   "outputs": [],
   "source": [
    "m, d, y= d.split('/')"
   ]
  },
  {
   "cell_type": "code",
   "execution_count": 31,
   "metadata": {},
   "outputs": [
    {
     "name": "stdout",
     "output_type": "stream",
     "text": [
      "4\n",
      "1\n",
      "2014\n"
     ]
    }
   ],
   "source": [
    "print(m)\n",
    "print(d)\n",
    "print(y)"
   ]
  },
  {
   "cell_type": "markdown",
   "metadata": {},
   "source": [
    "###  another way is to use datetime function!!"
   ]
  },
  {
   "cell_type": "code",
   "execution_count": 33,
   "metadata": {},
   "outputs": [
    {
     "data": {
      "text/plain": [
       "'4/1/2014 0:11:00'"
      ]
     },
     "execution_count": 33,
     "metadata": {},
     "output_type": "execute_result"
    }
   ],
   "source": [
    "dt"
   ]
  },
  {
   "cell_type": "code",
   "execution_count": 34,
   "metadata": {},
   "outputs": [],
   "source": [
    "dt= df['Date/Time']"
   ]
  },
  {
   "cell_type": "code",
   "execution_count": 35,
   "metadata": {},
   "outputs": [
    {
     "data": {
      "text/plain": [
       "0           4/1/2014 0:11:00\n",
       "1           4/1/2014 0:17:00\n",
       "2           4/1/2014 0:21:00\n",
       "3           4/1/2014 0:28:00\n",
       "4           4/1/2014 0:33:00\n",
       "                 ...        \n",
       "564511    4/30/2014 23:22:00\n",
       "564512    4/30/2014 23:26:00\n",
       "564513    4/30/2014 23:31:00\n",
       "564514    4/30/2014 23:32:00\n",
       "564515    4/30/2014 23:48:00\n",
       "Name: Date/Time, Length: 564516, dtype: object"
      ]
     },
     "execution_count": 35,
     "metadata": {},
     "output_type": "execute_result"
    }
   ],
   "source": [
    "dt"
   ]
  },
  {
   "cell_type": "code",
   "execution_count": 36,
   "metadata": {},
   "outputs": [],
   "source": [
    "dt= pd.to_datetime(dt)"
   ]
  },
  {
   "cell_type": "code",
   "execution_count": 39,
   "metadata": {},
   "outputs": [
    {
     "data": {
      "text/plain": [
       "0        2014-04-01 00:11:00\n",
       "1        2014-04-01 00:17:00\n",
       "2        2014-04-01 00:21:00\n",
       "3        2014-04-01 00:28:00\n",
       "4        2014-04-01 00:33:00\n",
       "                 ...        \n",
       "564511   2014-04-30 23:22:00\n",
       "564512   2014-04-30 23:26:00\n",
       "564513   2014-04-30 23:31:00\n",
       "564514   2014-04-30 23:32:00\n",
       "564515   2014-04-30 23:48:00\n",
       "Name: Date/Time, Length: 564516, dtype: datetime64[ns]"
      ]
     },
     "execution_count": 39,
     "metadata": {},
     "output_type": "execute_result"
    }
   ],
   "source": [
    "dt"
   ]
  },
  {
   "cell_type": "code",
   "execution_count": 44,
   "metadata": {},
   "outputs": [],
   "source": [
    "# dt.months\n",
    "\n",
    "# #error AttributeError: 'Series' object has no attribute 'months'"
   ]
  },
  {
   "cell_type": "code",
   "execution_count": 45,
   "metadata": {},
   "outputs": [],
   "source": [
    "dt= '2014-04-01 00:11:00'"
   ]
  },
  {
   "cell_type": "code",
   "execution_count": 46,
   "metadata": {},
   "outputs": [],
   "source": [
    "dt= pd.to_datetime(dt)"
   ]
  },
  {
   "cell_type": "code",
   "execution_count": 47,
   "metadata": {},
   "outputs": [
    {
     "data": {
      "text/plain": [
       "Timestamp('2014-04-01 00:11:00')"
      ]
     },
     "execution_count": 47,
     "metadata": {},
     "output_type": "execute_result"
    }
   ],
   "source": [
    "dt"
   ]
  },
  {
   "cell_type": "code",
   "execution_count": 49,
   "metadata": {},
   "outputs": [
    {
     "data": {
      "text/plain": [
       "1"
      ]
     },
     "execution_count": 49,
     "metadata": {},
     "output_type": "execute_result"
    }
   ],
   "source": [
    "dt.day"
   ]
  },
  {
   "cell_type": "code",
   "execution_count": 50,
   "metadata": {},
   "outputs": [
    {
     "data": {
      "text/plain": [
       "4"
      ]
     },
     "execution_count": 50,
     "metadata": {},
     "output_type": "execute_result"
    }
   ],
   "source": [
    "dt.month"
   ]
  },
  {
   "cell_type": "code",
   "execution_count": 51,
   "metadata": {},
   "outputs": [
    {
     "data": {
      "text/plain": [
       "2014"
      ]
     },
     "execution_count": 51,
     "metadata": {},
     "output_type": "execute_result"
    }
   ],
   "source": [
    "dt.year"
   ]
  },
  {
   "cell_type": "code",
   "execution_count": 52,
   "metadata": {},
   "outputs": [
    {
     "data": {
      "text/plain": [
       "<function Timestamp.time>"
      ]
     },
     "execution_count": 52,
     "metadata": {},
     "output_type": "execute_result"
    }
   ],
   "source": [
    "dt.time"
   ]
  },
  {
   "cell_type": "code",
   "execution_count": 53,
   "metadata": {},
   "outputs": [
    {
     "data": {
      "text/plain": [
       "11"
      ]
     },
     "execution_count": 53,
     "metadata": {},
     "output_type": "execute_result"
    }
   ],
   "source": [
    "dt.minute"
   ]
  },
  {
   "cell_type": "code",
   "execution_count": 54,
   "metadata": {},
   "outputs": [
    {
     "data": {
      "text/plain": [
       "0"
      ]
     },
     "execution_count": 54,
     "metadata": {},
     "output_type": "execute_result"
    }
   ],
   "source": [
    "dt.hour"
   ]
  },
  {
   "cell_type": "code",
   "execution_count": null,
   "metadata": {},
   "outputs": [],
   "source": [
    "## convert datetime and add some useful columns!!"
   ]
  },
  {
   "cell_type": "code",
   "execution_count": 334,
   "metadata": {},
   "outputs": [],
   "source": [
    "df['Date/Time']= df['Date/Time'].map(pd.to_datetime)"
   ]
  },
  {
   "cell_type": "code",
   "execution_count": 335,
   "metadata": {},
   "outputs": [
    {
     "data": {
      "text/plain": [
       "0         2014-09-01 00:01:00\n",
       "1         2014-09-01 00:01:00\n",
       "2         2014-09-01 00:03:00\n",
       "3         2014-09-01 00:06:00\n",
       "4         2014-09-01 00:11:00\n",
       "                  ...        \n",
       "1028131   2014-09-30 22:57:00\n",
       "1028132   2014-09-30 22:57:00\n",
       "1028133   2014-09-30 22:58:00\n",
       "1028134   2014-09-30 22:58:00\n",
       "1028135   2014-09-30 22:58:00\n",
       "Name: Date/Time, Length: 1028136, dtype: datetime64[ns]"
      ]
     },
     "execution_count": 335,
     "metadata": {},
     "output_type": "execute_result"
    }
   ],
   "source": [
    "df['Date/Time']"
   ]
  },
  {
   "cell_type": "code",
   "execution_count": 341,
   "metadata": {},
   "outputs": [],
   "source": [
    "dt= df['Date/Time'][10]"
   ]
  },
  {
   "cell_type": "code",
   "execution_count": 342,
   "metadata": {},
   "outputs": [
    {
     "data": {
      "text/plain": [
       "1"
      ]
     },
     "execution_count": 342,
     "metadata": {},
     "output_type": "execute_result"
    }
   ],
   "source": [
    "dt.day"
   ]
  },
  {
   "cell_type": "code",
   "execution_count": 343,
   "metadata": {},
   "outputs": [],
   "source": [
    "def get_dateOfMonth(dt):\n",
    "    return dt.month\n",
    "df['dateOfMonth']= df['Date/Time'].map(get_dateOfMonth)"
   ]
  },
  {
   "cell_type": "code",
   "execution_count": 83,
   "metadata": {},
   "outputs": [],
   "source": [
    "def get_dateOfDay(dt):\n",
    "    return dt.day\n",
    "df['dateOfDay']= df['Date/Time'].map(get_dateOfDay)"
   ]
  },
  {
   "cell_type": "code",
   "execution_count": 84,
   "metadata": {},
   "outputs": [],
   "source": [
    "def get_dateOfYear(dt):\n",
    "    return dt.year\n",
    "df['dateOfYear']= df['Date/Time'].map(get_dateOfYear)"
   ]
  },
  {
   "cell_type": "code",
   "execution_count": 86,
   "metadata": {},
   "outputs": [],
   "source": [
    "def get_dateOfHour(dt):\n",
    "    return dt.hour\n",
    "df['dateOfHour']= df['Date/Time'].map(get_dateOfHour)"
   ]
  },
  {
   "cell_type": "code",
   "execution_count": 88,
   "metadata": {},
   "outputs": [],
   "source": [
    "def get_dateOfMinute(dt):\n",
    "    return dt.minute\n",
    "df['dateOfMinute']= df['Date/Time'].map(get_dateOfMinute)"
   ]
  },
  {
   "cell_type": "code",
   "execution_count": 81,
   "metadata": {},
   "outputs": [],
   "source": [
    "df.drop('DOM', inplace=True, axis=1)"
   ]
  },
  {
   "cell_type": "code",
   "execution_count": 89,
   "metadata": {},
   "outputs": [
    {
     "data": {
      "text/html": [
       "<div>\n",
       "<style scoped>\n",
       "    .dataframe tbody tr th:only-of-type {\n",
       "        vertical-align: middle;\n",
       "    }\n",
       "\n",
       "    .dataframe tbody tr th {\n",
       "        vertical-align: top;\n",
       "    }\n",
       "\n",
       "    .dataframe thead th {\n",
       "        text-align: right;\n",
       "    }\n",
       "</style>\n",
       "<table border=\"1\" class=\"dataframe\">\n",
       "  <thead>\n",
       "    <tr style=\"text-align: right;\">\n",
       "      <th></th>\n",
       "      <th>Date/Time</th>\n",
       "      <th>Lat</th>\n",
       "      <th>Lon</th>\n",
       "      <th>Base</th>\n",
       "      <th>dateOfMonth</th>\n",
       "      <th>dateOfDay</th>\n",
       "      <th>dateOfYear</th>\n",
       "      <th>dateOfHour</th>\n",
       "      <th>dateOfMinute</th>\n",
       "    </tr>\n",
       "  </thead>\n",
       "  <tbody>\n",
       "    <tr>\n",
       "      <td>0</td>\n",
       "      <td>2014-04-01 00:11:00</td>\n",
       "      <td>40.7690</td>\n",
       "      <td>-73.9549</td>\n",
       "      <td>B02512</td>\n",
       "      <td>4</td>\n",
       "      <td>1</td>\n",
       "      <td>2014</td>\n",
       "      <td>0</td>\n",
       "      <td>11</td>\n",
       "    </tr>\n",
       "    <tr>\n",
       "      <td>1</td>\n",
       "      <td>2014-04-01 00:17:00</td>\n",
       "      <td>40.7267</td>\n",
       "      <td>-74.0345</td>\n",
       "      <td>B02512</td>\n",
       "      <td>4</td>\n",
       "      <td>1</td>\n",
       "      <td>2014</td>\n",
       "      <td>0</td>\n",
       "      <td>17</td>\n",
       "    </tr>\n",
       "    <tr>\n",
       "      <td>2</td>\n",
       "      <td>2014-04-01 00:21:00</td>\n",
       "      <td>40.7316</td>\n",
       "      <td>-73.9873</td>\n",
       "      <td>B02512</td>\n",
       "      <td>4</td>\n",
       "      <td>1</td>\n",
       "      <td>2014</td>\n",
       "      <td>0</td>\n",
       "      <td>21</td>\n",
       "    </tr>\n",
       "    <tr>\n",
       "      <td>3</td>\n",
       "      <td>2014-04-01 00:28:00</td>\n",
       "      <td>40.7588</td>\n",
       "      <td>-73.9776</td>\n",
       "      <td>B02512</td>\n",
       "      <td>4</td>\n",
       "      <td>1</td>\n",
       "      <td>2014</td>\n",
       "      <td>0</td>\n",
       "      <td>28</td>\n",
       "    </tr>\n",
       "    <tr>\n",
       "      <td>4</td>\n",
       "      <td>2014-04-01 00:33:00</td>\n",
       "      <td>40.7594</td>\n",
       "      <td>-73.9722</td>\n",
       "      <td>B02512</td>\n",
       "      <td>4</td>\n",
       "      <td>1</td>\n",
       "      <td>2014</td>\n",
       "      <td>0</td>\n",
       "      <td>33</td>\n",
       "    </tr>\n",
       "    <tr>\n",
       "      <td>...</td>\n",
       "      <td>...</td>\n",
       "      <td>...</td>\n",
       "      <td>...</td>\n",
       "      <td>...</td>\n",
       "      <td>...</td>\n",
       "      <td>...</td>\n",
       "      <td>...</td>\n",
       "      <td>...</td>\n",
       "      <td>...</td>\n",
       "    </tr>\n",
       "    <tr>\n",
       "      <td>564511</td>\n",
       "      <td>2014-04-30 23:22:00</td>\n",
       "      <td>40.7640</td>\n",
       "      <td>-73.9744</td>\n",
       "      <td>B02764</td>\n",
       "      <td>4</td>\n",
       "      <td>30</td>\n",
       "      <td>2014</td>\n",
       "      <td>23</td>\n",
       "      <td>22</td>\n",
       "    </tr>\n",
       "    <tr>\n",
       "      <td>564512</td>\n",
       "      <td>2014-04-30 23:26:00</td>\n",
       "      <td>40.7629</td>\n",
       "      <td>-73.9672</td>\n",
       "      <td>B02764</td>\n",
       "      <td>4</td>\n",
       "      <td>30</td>\n",
       "      <td>2014</td>\n",
       "      <td>23</td>\n",
       "      <td>26</td>\n",
       "    </tr>\n",
       "    <tr>\n",
       "      <td>564513</td>\n",
       "      <td>2014-04-30 23:31:00</td>\n",
       "      <td>40.7443</td>\n",
       "      <td>-73.9889</td>\n",
       "      <td>B02764</td>\n",
       "      <td>4</td>\n",
       "      <td>30</td>\n",
       "      <td>2014</td>\n",
       "      <td>23</td>\n",
       "      <td>31</td>\n",
       "    </tr>\n",
       "    <tr>\n",
       "      <td>564514</td>\n",
       "      <td>2014-04-30 23:32:00</td>\n",
       "      <td>40.6756</td>\n",
       "      <td>-73.9405</td>\n",
       "      <td>B02764</td>\n",
       "      <td>4</td>\n",
       "      <td>30</td>\n",
       "      <td>2014</td>\n",
       "      <td>23</td>\n",
       "      <td>32</td>\n",
       "    </tr>\n",
       "    <tr>\n",
       "      <td>564515</td>\n",
       "      <td>2014-04-30 23:48:00</td>\n",
       "      <td>40.6880</td>\n",
       "      <td>-73.9608</td>\n",
       "      <td>B02764</td>\n",
       "      <td>4</td>\n",
       "      <td>30</td>\n",
       "      <td>2014</td>\n",
       "      <td>23</td>\n",
       "      <td>48</td>\n",
       "    </tr>\n",
       "  </tbody>\n",
       "</table>\n",
       "<p>564516 rows × 9 columns</p>\n",
       "</div>"
      ],
      "text/plain": [
       "                 Date/Time      Lat      Lon    Base  dateOfMonth  dateOfDay  \\\n",
       "0      2014-04-01 00:11:00  40.7690 -73.9549  B02512            4          1   \n",
       "1      2014-04-01 00:17:00  40.7267 -74.0345  B02512            4          1   \n",
       "2      2014-04-01 00:21:00  40.7316 -73.9873  B02512            4          1   \n",
       "3      2014-04-01 00:28:00  40.7588 -73.9776  B02512            4          1   \n",
       "4      2014-04-01 00:33:00  40.7594 -73.9722  B02512            4          1   \n",
       "...                    ...      ...      ...     ...          ...        ...   \n",
       "564511 2014-04-30 23:22:00  40.7640 -73.9744  B02764            4         30   \n",
       "564512 2014-04-30 23:26:00  40.7629 -73.9672  B02764            4         30   \n",
       "564513 2014-04-30 23:31:00  40.7443 -73.9889  B02764            4         30   \n",
       "564514 2014-04-30 23:32:00  40.6756 -73.9405  B02764            4         30   \n",
       "564515 2014-04-30 23:48:00  40.6880 -73.9608  B02764            4         30   \n",
       "\n",
       "        dateOfYear  dateOfHour  dateOfMinute  \n",
       "0             2014           0            11  \n",
       "1             2014           0            17  \n",
       "2             2014           0            21  \n",
       "3             2014           0            28  \n",
       "4             2014           0            33  \n",
       "...            ...         ...           ...  \n",
       "564511        2014          23            22  \n",
       "564512        2014          23            26  \n",
       "564513        2014          23            31  \n",
       "564514        2014          23            32  \n",
       "564515        2014          23            48  \n",
       "\n",
       "[564516 rows x 9 columns]"
      ]
     },
     "execution_count": 89,
     "metadata": {},
     "output_type": "execute_result"
    }
   ],
   "source": [
    "df"
   ]
  },
  {
   "cell_type": "code",
   "execution_count": 92,
   "metadata": {},
   "outputs": [
    {
     "data": {
      "image/png": "[encoded data removed]",
      "text/plain": [
       "<Figure size 432x288 with 1 Axes>"
      ]
     },
     "metadata": {
      "needs_background": "light"
     },
     "output_type": "display_data"
    }
   ],
   "source": [
    "plt.scatter(df.Lat, df.dateOfDay)\n",
    "plt.show()"
   ]
  },
  {
   "cell_type": "code",
   "execution_count": 93,
   "metadata": {},
   "outputs": [
    {
     "data": {
      "image/png": "[encoded data removed]",
      "text/plain": [
       "<Figure size 432x288 with 1 Axes>"
      ]
     },
     "metadata": {
      "needs_background": "light"
     },
     "output_type": "display_data"
    }
   ],
   "source": [
    "plt.scatter(df.Base, df.dateOfHour)\n",
    "plt.show()\n"
   ]
  },
  {
   "cell_type": "code",
   "execution_count": 94,
   "metadata": {
    "scrolled": false
   },
   "outputs": [
    {
     "data": {
      "image/png": "[encoded data removed]",
      "text/plain": [
       "<Figure size 432x288 with 1 Axes>"
      ]
     },
     "metadata": {
      "needs_background": "light"
     },
     "output_type": "display_data"
    }
   ],
   "source": [
    "plt.scatter(df.Lat, df.Lon)\n",
    "plt.show()"
   ]
  },
  {
   "cell_type": "code",
   "execution_count": 98,
   "metadata": {},
   "outputs": [
    {
     "data": {
      "text/plain": [
       "(array([56219., 56919., 57130., 55798., 56860., 56446., 56282., 56906.,\n",
       "        55869., 56087.]),\n",
       " array([ 0. ,  5.9, 11.8, 17.7, 23.6, 29.5, 35.4, 41.3, 47.2, 53.1, 59. ]),\n",
       " <a list of 10 Patch objects>)"
      ]
     },
     "execution_count": 98,
     "metadata": {},
     "output_type": "execute_result"
    },
    {
     "data": {
      "image/png": "[encoded data removed]",
      "text/plain": [
       "<Figure size 432x288 with 1 Axes>"
      ]
     },
     "metadata": {
      "needs_background": "light"
     },
     "output_type": "display_data"
    }
   ],
   "source": [
    "plt.hist(df.dateOfMinute.values)"
   ]
  },
  {
   "cell_type": "code",
   "execution_count": 100,
   "metadata": {},
   "outputs": [
    {
     "data": {
      "text/plain": [
       "array([11, 17, 21, ..., 31, 32, 48], dtype=int64)"
      ]
     },
     "execution_count": 100,
     "metadata": {},
     "output_type": "execute_result"
    }
   ],
   "source": [
    "(df.dateOfMinute).values"
   ]
  },
  {
   "cell_type": "code",
   "execution_count": 120,
   "metadata": {},
   "outputs": [
    {
     "data": {
      "text/plain": [
       "array([11, 17, 21, ..., 31, 32, 48], dtype=int64)"
      ]
     },
     "execution_count": 120,
     "metadata": {},
     "output_type": "execute_result"
    }
   ],
   "source": [
    "dom_values"
   ]
  },
  {
   "cell_type": "code",
   "execution_count": 121,
   "metadata": {},
   "outputs": [
    {
     "ename": "AttributeError",
     "evalue": "'numpy.ndarray' object has no attribute 'plot'",
     "output_type": "error",
     "traceback": [
      "\u001b[1;31m---------------------------------------------------------------------------\u001b[0m",
      "\u001b[1;31mAttributeError\u001b[0m                            Traceback (most recent call last)",
      "\u001b[1;32m<ipython-input-121-5724a9f93638>\u001b[0m in \u001b[0;36m<module>\u001b[1;34m\u001b[0m\n\u001b[1;32m----> 1\u001b[1;33m \u001b[0mdom_values\u001b[0m\u001b[1;33m.\u001b[0m\u001b[0mplot\u001b[0m\u001b[1;33m(\u001b[0m\u001b[1;33m)\u001b[0m\u001b[1;33m\u001b[0m\u001b[1;33m\u001b[0m\u001b[0m\n\u001b[0m",
      "\u001b[1;31mAttributeError\u001b[0m: 'numpy.ndarray' object has no attribute 'plot'"
     ]
    }
   ],
   "source": [
    "dom_values.plot()"
   ]
  },
  {
   "cell_type": "code",
   "execution_count": 136,
   "metadata": {},
   "outputs": [
    {
     "data": {
      "text/plain": [
       "(array([ 9358.,  9434.,  9243.,  9247.,  9486.,  9407.,  9409.,  9612.,\n",
       "         9469.,  9627.,  9395.,  9463.,  9605.,  9718.,  9687., 18657.,\n",
       "         9139.,  9317.,  9470.,  9210.,  9433.,  9229.,  9383.,  9516.,\n",
       "         9463.,  9460.,  9500.,  9538.,  9523.,  9280.]),\n",
       " array([ 0.5       ,  1.53333333,  2.56666667,  3.6       ,  4.63333333,\n",
       "         5.66666667,  6.7       ,  7.73333333,  8.76666667,  9.8       ,\n",
       "        10.83333333, 11.86666667, 12.9       , 13.93333333, 14.96666667,\n",
       "        16.        , 17.03333333, 18.06666667, 19.1       , 20.13333333,\n",
       "        21.16666667, 22.2       , 23.23333333, 24.26666667, 25.3       ,\n",
       "        26.33333333, 27.36666667, 28.4       , 29.43333333, 30.46666667,\n",
       "        31.5       ]),\n",
       " <a list of 30 Patch objects>)"
      ]
     },
     "execution_count": 136,
     "metadata": {},
     "output_type": "execute_result"
    },
    {
     "data": {
      "image/png": "[encoded data removed]",
      "text/plain": [
       "<Figure size 432x288 with 1 Axes>"
      ]
     },
     "metadata": {
      "needs_background": "light"
     },
     "output_type": "display_data"
    }
   ],
   "source": [
    "plt.hist(dom_values, bins= 30, rwidth= .8, range=(0.5, 31.5))"
   ]
  },
  {
   "cell_type": "code",
   "execution_count": 138,
   "metadata": {},
   "outputs": [
    {
     "data": {
      "text/plain": [
       "Text(0.5, 1.0, 'frequency of the uber car in apri; 2014 year')"
      ]
     },
     "execution_count": 138,
     "metadata": {},
     "output_type": "execute_result"
    },
    {
     "data": {
      "image/png": "[encoded data removed]",
      "text/plain": [
       "<Figure size 432x288 with 1 Axes>"
      ]
     },
     "metadata": {
      "needs_background": "light"
     },
     "output_type": "display_data"
    }
   ],
   "source": [
    "hist(dom_values, bins= 30, rwidth= .8, range=(0.5, 30.5))\n",
    "xlabel('date of the month')\n",
    "ylabel('frequency')\n",
    "title('frequency of the uber car in apri; 2014 year')"
   ]
  },
  {
   "cell_type": "code",
   "execution_count": 142,
   "metadata": {},
   "outputs": [
    {
     "name": "stdout",
     "output_type": "stream",
     "text": [
      "4 564516\n"
     ]
    }
   ],
   "source": [
    "for i, rows in df.groupby('dateOfMonth'):\n",
    "    print(i, len(rows))"
   ]
  },
  {
   "cell_type": "code",
   "execution_count": 145,
   "metadata": {},
   "outputs": [
    {
     "data": {
      "text/html": [
       "<div>\n",
       "<style scoped>\n",
       "    .dataframe tbody tr th:only-of-type {\n",
       "        vertical-align: middle;\n",
       "    }\n",
       "\n",
       "    .dataframe tbody tr th {\n",
       "        vertical-align: top;\n",
       "    }\n",
       "\n",
       "    .dataframe thead th {\n",
       "        text-align: right;\n",
       "    }\n",
       "</style>\n",
       "<table border=\"1\" class=\"dataframe\">\n",
       "  <thead>\n",
       "    <tr style=\"text-align: right;\">\n",
       "      <th></th>\n",
       "      <th>Date/Time</th>\n",
       "      <th>Lat</th>\n",
       "      <th>Lon</th>\n",
       "      <th>Base</th>\n",
       "      <th>dateOfMonth</th>\n",
       "      <th>dateOfDay</th>\n",
       "      <th>dateOfYear</th>\n",
       "      <th>dateOfHour</th>\n",
       "      <th>dateOfMinute</th>\n",
       "    </tr>\n",
       "  </thead>\n",
       "  <tbody>\n",
       "    <tr>\n",
       "      <td>0</td>\n",
       "      <td>2014-04-01 00:11:00</td>\n",
       "      <td>40.7690</td>\n",
       "      <td>-73.9549</td>\n",
       "      <td>B02512</td>\n",
       "      <td>4</td>\n",
       "      <td>1</td>\n",
       "      <td>2014</td>\n",
       "      <td>0</td>\n",
       "      <td>11</td>\n",
       "    </tr>\n",
       "    <tr>\n",
       "      <td>1</td>\n",
       "      <td>2014-04-01 00:17:00</td>\n",
       "      <td>40.7267</td>\n",
       "      <td>-74.0345</td>\n",
       "      <td>B02512</td>\n",
       "      <td>4</td>\n",
       "      <td>1</td>\n",
       "      <td>2014</td>\n",
       "      <td>0</td>\n",
       "      <td>17</td>\n",
       "    </tr>\n",
       "    <tr>\n",
       "      <td>2</td>\n",
       "      <td>2014-04-01 00:21:00</td>\n",
       "      <td>40.7316</td>\n",
       "      <td>-73.9873</td>\n",
       "      <td>B02512</td>\n",
       "      <td>4</td>\n",
       "      <td>1</td>\n",
       "      <td>2014</td>\n",
       "      <td>0</td>\n",
       "      <td>21</td>\n",
       "    </tr>\n",
       "    <tr>\n",
       "      <td>3</td>\n",
       "      <td>2014-04-01 00:28:00</td>\n",
       "      <td>40.7588</td>\n",
       "      <td>-73.9776</td>\n",
       "      <td>B02512</td>\n",
       "      <td>4</td>\n",
       "      <td>1</td>\n",
       "      <td>2014</td>\n",
       "      <td>0</td>\n",
       "      <td>28</td>\n",
       "    </tr>\n",
       "    <tr>\n",
       "      <td>4</td>\n",
       "      <td>2014-04-01 00:33:00</td>\n",
       "      <td>40.7594</td>\n",
       "      <td>-73.9722</td>\n",
       "      <td>B02512</td>\n",
       "      <td>4</td>\n",
       "      <td>1</td>\n",
       "      <td>2014</td>\n",
       "      <td>0</td>\n",
       "      <td>33</td>\n",
       "    </tr>\n",
       "  </tbody>\n",
       "</table>\n",
       "</div>"
      ],
      "text/plain": [
       "            Date/Time      Lat      Lon    Base  dateOfMonth  dateOfDay  \\\n",
       "0 2014-04-01 00:11:00  40.7690 -73.9549  B02512            4          1   \n",
       "1 2014-04-01 00:17:00  40.7267 -74.0345  B02512            4          1   \n",
       "2 2014-04-01 00:21:00  40.7316 -73.9873  B02512            4          1   \n",
       "3 2014-04-01 00:28:00  40.7588 -73.9776  B02512            4          1   \n",
       "4 2014-04-01 00:33:00  40.7594 -73.9722  B02512            4          1   \n",
       "\n",
       "   dateOfYear  dateOfHour  dateOfMinute  \n",
       "0        2014           0            11  \n",
       "1        2014           0            17  \n",
       "2        2014           0            21  \n",
       "3        2014           0            28  \n",
       "4        2014           0            33  "
      ]
     },
     "execution_count": 145,
     "metadata": {},
     "output_type": "execute_result"
    }
   ],
   "source": [
    "df.head()"
   ]
  },
  {
   "cell_type": "markdown",
   "metadata": {},
   "source": [
    "## how to merge the different months datasets together!!"
   ]
  },
  {
   "cell_type": "code",
   "execution_count": 291,
   "metadata": {
    "scrolled": true
   },
   "outputs": [
    {
     "name": "stdout",
     "output_type": "stream",
     "text": [
      "C:\\Users\\shaqu\\Desktop\\Data Science Projects\\uber data analysis\n"
     ]
    }
   ],
   "source": [
    "cd C:\\Users\\shaqu\\Desktop\\Data Science Projects\\uber data analysis"
   ]
  },
  {
   "cell_type": "code",
   "execution_count": 297,
   "metadata": {},
   "outputs": [],
   "source": [
    "import pandas as pd\n",
    "\n",
    "\n",
    "files =[file for file in os.listdir('./uber data of months')]\n",
    "all_months_data = pd.DataFrame()\n",
    "\n",
    "for file in files:\n",
    "    df= pd.read_csv('./uber data of months/' + file)\n",
    "    all_months_data = pd.concat([all_months_data, df])\n",
    "    all_months_data.to_csv('all_uber_data1.csv', index=False)"
   ]
  },
  {
   "cell_type": "code",
   "execution_count": 301,
   "metadata": {
    "scrolled": false
   },
   "outputs": [
    {
     "data": {
      "text/html": [
       "<div>\n",
       "<style scoped>\n",
       "    .dataframe tbody tr th:only-of-type {\n",
       "        vertical-align: middle;\n",
       "    }\n",
       "\n",
       "    .dataframe tbody tr th {\n",
       "        vertical-align: top;\n",
       "    }\n",
       "\n",
       "    .dataframe thead th {\n",
       "        text-align: right;\n",
       "    }\n",
       "</style>\n",
       "<table border=\"1\" class=\"dataframe\">\n",
       "  <thead>\n",
       "    <tr style=\"text-align: right;\">\n",
       "      <th></th>\n",
       "      <th>Date/Time</th>\n",
       "      <th>Lat</th>\n",
       "      <th>Lon</th>\n",
       "      <th>Base</th>\n",
       "    </tr>\n",
       "  </thead>\n",
       "  <tbody>\n",
       "    <tr>\n",
       "      <td>0</td>\n",
       "      <td>4/1/2014 0:11:00</td>\n",
       "      <td>40.7690</td>\n",
       "      <td>-73.9549</td>\n",
       "      <td>B02512</td>\n",
       "    </tr>\n",
       "    <tr>\n",
       "      <td>1</td>\n",
       "      <td>4/1/2014 0:17:00</td>\n",
       "      <td>40.7267</td>\n",
       "      <td>-74.0345</td>\n",
       "      <td>B02512</td>\n",
       "    </tr>\n",
       "    <tr>\n",
       "      <td>2</td>\n",
       "      <td>4/1/2014 0:21:00</td>\n",
       "      <td>40.7316</td>\n",
       "      <td>-73.9873</td>\n",
       "      <td>B02512</td>\n",
       "    </tr>\n",
       "    <tr>\n",
       "      <td>3</td>\n",
       "      <td>4/1/2014 0:28:00</td>\n",
       "      <td>40.7588</td>\n",
       "      <td>-73.9776</td>\n",
       "      <td>B02512</td>\n",
       "    </tr>\n",
       "    <tr>\n",
       "      <td>4</td>\n",
       "      <td>4/1/2014 0:33:00</td>\n",
       "      <td>40.7594</td>\n",
       "      <td>-73.9722</td>\n",
       "      <td>B02512</td>\n",
       "    </tr>\n",
       "    <tr>\n",
       "      <td>...</td>\n",
       "      <td>...</td>\n",
       "      <td>...</td>\n",
       "      <td>...</td>\n",
       "      <td>...</td>\n",
       "    </tr>\n",
       "    <tr>\n",
       "      <td>1028131</td>\n",
       "      <td>9/30/2014 22:57:00</td>\n",
       "      <td>40.7668</td>\n",
       "      <td>-73.9845</td>\n",
       "      <td>B02764</td>\n",
       "    </tr>\n",
       "    <tr>\n",
       "      <td>1028132</td>\n",
       "      <td>9/30/2014 22:57:00</td>\n",
       "      <td>40.6911</td>\n",
       "      <td>-74.1773</td>\n",
       "      <td>B02764</td>\n",
       "    </tr>\n",
       "    <tr>\n",
       "      <td>1028133</td>\n",
       "      <td>9/30/2014 22:58:00</td>\n",
       "      <td>40.8519</td>\n",
       "      <td>-73.9319</td>\n",
       "      <td>B02764</td>\n",
       "    </tr>\n",
       "    <tr>\n",
       "      <td>1028134</td>\n",
       "      <td>9/30/2014 22:58:00</td>\n",
       "      <td>40.7081</td>\n",
       "      <td>-74.0066</td>\n",
       "      <td>B02764</td>\n",
       "    </tr>\n",
       "    <tr>\n",
       "      <td>1028135</td>\n",
       "      <td>9/30/2014 22:58:00</td>\n",
       "      <td>40.7140</td>\n",
       "      <td>-73.9496</td>\n",
       "      <td>B02764</td>\n",
       "    </tr>\n",
       "  </tbody>\n",
       "</table>\n",
       "<p>3870483 rows × 4 columns</p>\n",
       "</div>"
      ],
      "text/plain": [
       "                  Date/Time      Lat      Lon    Base\n",
       "0          4/1/2014 0:11:00  40.7690 -73.9549  B02512\n",
       "1          4/1/2014 0:17:00  40.7267 -74.0345  B02512\n",
       "2          4/1/2014 0:21:00  40.7316 -73.9873  B02512\n",
       "3          4/1/2014 0:28:00  40.7588 -73.9776  B02512\n",
       "4          4/1/2014 0:33:00  40.7594 -73.9722  B02512\n",
       "...                     ...      ...      ...     ...\n",
       "1028131  9/30/2014 22:57:00  40.7668 -73.9845  B02764\n",
       "1028132  9/30/2014 22:57:00  40.6911 -74.1773  B02764\n",
       "1028133  9/30/2014 22:58:00  40.8519 -73.9319  B02764\n",
       "1028134  9/30/2014 22:58:00  40.7081 -74.0066  B02764\n",
       "1028135  9/30/2014 22:58:00  40.7140 -73.9496  B02764\n",
       "\n",
       "[3870483 rows x 4 columns]"
      ]
     },
     "execution_count": 301,
     "metadata": {},
     "output_type": "execute_result"
    }
   ],
   "source": [
    "all_months_data   ## this can't be load fully in excel!!"
   ]
  },
  {
   "cell_type": "code",
   "execution_count": 305,
   "metadata": {},
   "outputs": [],
   "source": [
    "## alert !!! it takes lots of time to operate"
   ]
  },
  {
   "cell_type": "code",
   "execution_count": 302,
   "metadata": {},
   "outputs": [],
   "source": [
    "# all_months_data['Date/Time']= all_months_data['Date/Time'].map(pd.to_datetime)"
   ]
  },
  {
   "cell_type": "code",
   "execution_count": 379,
   "metadata": {},
   "outputs": [],
   "source": [
    "all_months_data.reset_index(drop = True, inplace = True)"
   ]
  },
  {
   "cell_type": "code",
   "execution_count": 380,
   "metadata": {},
   "outputs": [
    {
     "data": {
      "text/html": [
       "<div>\n",
       "<style scoped>\n",
       "    .dataframe tbody tr th:only-of-type {\n",
       "        vertical-align: middle;\n",
       "    }\n",
       "\n",
       "    .dataframe tbody tr th {\n",
       "        vertical-align: top;\n",
       "    }\n",
       "\n",
       "    .dataframe thead th {\n",
       "        text-align: right;\n",
       "    }\n",
       "</style>\n",
       "<table border=\"1\" class=\"dataframe\">\n",
       "  <thead>\n",
       "    <tr style=\"text-align: right;\">\n",
       "      <th></th>\n",
       "      <th>Date/Time</th>\n",
       "      <th>Lat</th>\n",
       "      <th>Lon</th>\n",
       "      <th>Base</th>\n",
       "      <th>dateOfMonth</th>\n",
       "      <th>DateOfMonth</th>\n",
       "    </tr>\n",
       "  </thead>\n",
       "  <tbody>\n",
       "    <tr>\n",
       "      <td>0</td>\n",
       "      <td>2014-04-01 00:11:00</td>\n",
       "      <td>40.7690</td>\n",
       "      <td>-73.9549</td>\n",
       "      <td>B02512</td>\n",
       "      <td>4</td>\n",
       "      <td>4</td>\n",
       "    </tr>\n",
       "    <tr>\n",
       "      <td>1</td>\n",
       "      <td>2014-04-01 00:17:00</td>\n",
       "      <td>40.7267</td>\n",
       "      <td>-74.0345</td>\n",
       "      <td>B02512</td>\n",
       "      <td>4</td>\n",
       "      <td>4</td>\n",
       "    </tr>\n",
       "    <tr>\n",
       "      <td>2</td>\n",
       "      <td>2014-04-01 00:21:00</td>\n",
       "      <td>40.7316</td>\n",
       "      <td>-73.9873</td>\n",
       "      <td>B02512</td>\n",
       "      <td>4</td>\n",
       "      <td>4</td>\n",
       "    </tr>\n",
       "    <tr>\n",
       "      <td>3</td>\n",
       "      <td>2014-04-01 00:28:00</td>\n",
       "      <td>40.7588</td>\n",
       "      <td>-73.9776</td>\n",
       "      <td>B02512</td>\n",
       "      <td>4</td>\n",
       "      <td>4</td>\n",
       "    </tr>\n",
       "    <tr>\n",
       "      <td>4</td>\n",
       "      <td>2014-04-01 00:33:00</td>\n",
       "      <td>40.7594</td>\n",
       "      <td>-73.9722</td>\n",
       "      <td>B02512</td>\n",
       "      <td>4</td>\n",
       "      <td>4</td>\n",
       "    </tr>\n",
       "    <tr>\n",
       "      <td>...</td>\n",
       "      <td>...</td>\n",
       "      <td>...</td>\n",
       "      <td>...</td>\n",
       "      <td>...</td>\n",
       "      <td>...</td>\n",
       "      <td>...</td>\n",
       "    </tr>\n",
       "    <tr>\n",
       "      <td>3870478</td>\n",
       "      <td>2014-09-30 22:57:00</td>\n",
       "      <td>40.7668</td>\n",
       "      <td>-73.9845</td>\n",
       "      <td>B02764</td>\n",
       "      <td>9</td>\n",
       "      <td>9</td>\n",
       "    </tr>\n",
       "    <tr>\n",
       "      <td>3870479</td>\n",
       "      <td>2014-09-30 22:57:00</td>\n",
       "      <td>40.6911</td>\n",
       "      <td>-74.1773</td>\n",
       "      <td>B02764</td>\n",
       "      <td>9</td>\n",
       "      <td>9</td>\n",
       "    </tr>\n",
       "    <tr>\n",
       "      <td>3870480</td>\n",
       "      <td>2014-09-30 22:58:00</td>\n",
       "      <td>40.8519</td>\n",
       "      <td>-73.9319</td>\n",
       "      <td>B02764</td>\n",
       "      <td>9</td>\n",
       "      <td>9</td>\n",
       "    </tr>\n",
       "    <tr>\n",
       "      <td>3870481</td>\n",
       "      <td>2014-09-30 22:58:00</td>\n",
       "      <td>40.7081</td>\n",
       "      <td>-74.0066</td>\n",
       "      <td>B02764</td>\n",
       "      <td>9</td>\n",
       "      <td>9</td>\n",
       "    </tr>\n",
       "    <tr>\n",
       "      <td>3870482</td>\n",
       "      <td>2014-09-30 22:58:00</td>\n",
       "      <td>40.7140</td>\n",
       "      <td>-73.9496</td>\n",
       "      <td>B02764</td>\n",
       "      <td>9</td>\n",
       "      <td>9</td>\n",
       "    </tr>\n",
       "  </tbody>\n",
       "</table>\n",
       "<p>3870483 rows × 6 columns</p>\n",
       "</div>"
      ],
      "text/plain": [
       "                  Date/Time      Lat      Lon    Base  dateOfMonth  \\\n",
       "0       2014-04-01 00:11:00  40.7690 -73.9549  B02512            4   \n",
       "1       2014-04-01 00:17:00  40.7267 -74.0345  B02512            4   \n",
       "2       2014-04-01 00:21:00  40.7316 -73.9873  B02512            4   \n",
       "3       2014-04-01 00:28:00  40.7588 -73.9776  B02512            4   \n",
       "4       2014-04-01 00:33:00  40.7594 -73.9722  B02512            4   \n",
       "...                     ...      ...      ...     ...          ...   \n",
       "3870478 2014-09-30 22:57:00  40.7668 -73.9845  B02764            9   \n",
       "3870479 2014-09-30 22:57:00  40.6911 -74.1773  B02764            9   \n",
       "3870480 2014-09-30 22:58:00  40.8519 -73.9319  B02764            9   \n",
       "3870481 2014-09-30 22:58:00  40.7081 -74.0066  B02764            9   \n",
       "3870482 2014-09-30 22:58:00  40.7140 -73.9496  B02764            9   \n",
       "\n",
       "         DateOfMonth  \n",
       "0                  4  \n",
       "1                  4  \n",
       "2                  4  \n",
       "3                  4  \n",
       "4                  4  \n",
       "...              ...  \n",
       "3870478            9  \n",
       "3870479            9  \n",
       "3870480            9  \n",
       "3870481            9  \n",
       "3870482            9  \n",
       "\n",
       "[3870483 rows x 6 columns]"
      ]
     },
     "execution_count": 380,
     "metadata": {},
     "output_type": "execute_result"
    }
   ],
   "source": [
    "all_months_data"
   ]
  },
  {
   "cell_type": "code",
   "execution_count": 357,
   "metadata": {},
   "outputs": [
    {
     "data": {
      "text/plain": [
       "0         2014-04-01 00:11:00\n",
       "1         2014-04-01 00:17:00\n",
       "2         2014-04-01 00:21:00\n",
       "3         2014-04-01 00:28:00\n",
       "4         2014-04-01 00:33:00\n",
       "                  ...        \n",
       "1028131   2014-09-30 22:57:00\n",
       "1028132   2014-09-30 22:57:00\n",
       "1028133   2014-09-30 22:58:00\n",
       "1028134   2014-09-30 22:58:00\n",
       "1028135   2014-09-30 22:58:00\n",
       "Name: Date/Time, Length: 3870483, dtype: datetime64[ns]"
      ]
     },
     "execution_count": 357,
     "metadata": {},
     "output_type": "execute_result"
    }
   ],
   "source": [
    "all_months_data['Date/Time']"
   ]
  },
  {
   "cell_type": "code",
   "execution_count": 358,
   "metadata": {},
   "outputs": [
    {
     "data": {
      "text/html": [
       "<div>\n",
       "<style scoped>\n",
       "    .dataframe tbody tr th:only-of-type {\n",
       "        vertical-align: middle;\n",
       "    }\n",
       "\n",
       "    .dataframe tbody tr th {\n",
       "        vertical-align: top;\n",
       "    }\n",
       "\n",
       "    .dataframe thead th {\n",
       "        text-align: right;\n",
       "    }\n",
       "</style>\n",
       "<table border=\"1\" class=\"dataframe\">\n",
       "  <thead>\n",
       "    <tr style=\"text-align: right;\">\n",
       "      <th></th>\n",
       "      <th>Lat</th>\n",
       "      <th>Lon</th>\n",
       "    </tr>\n",
       "  </thead>\n",
       "  <tbody>\n",
       "    <tr>\n",
       "      <td>count</td>\n",
       "      <td>3.870483e+06</td>\n",
       "      <td>3.870483e+06</td>\n",
       "    </tr>\n",
       "    <tr>\n",
       "      <td>mean</td>\n",
       "      <td>4.073915e+01</td>\n",
       "      <td>-7.397284e+01</td>\n",
       "    </tr>\n",
       "    <tr>\n",
       "      <td>std</td>\n",
       "      <td>4.021090e-02</td>\n",
       "      <td>5.737043e-02</td>\n",
       "    </tr>\n",
       "    <tr>\n",
       "      <td>min</td>\n",
       "      <td>3.965690e+01</td>\n",
       "      <td>-7.492900e+01</td>\n",
       "    </tr>\n",
       "    <tr>\n",
       "      <td>25%</td>\n",
       "      <td>4.072090e+01</td>\n",
       "      <td>-7.399650e+01</td>\n",
       "    </tr>\n",
       "    <tr>\n",
       "      <td>50%</td>\n",
       "      <td>4.074200e+01</td>\n",
       "      <td>-7.398340e+01</td>\n",
       "    </tr>\n",
       "    <tr>\n",
       "      <td>75%</td>\n",
       "      <td>4.076090e+01</td>\n",
       "      <td>-7.396480e+01</td>\n",
       "    </tr>\n",
       "    <tr>\n",
       "      <td>max</td>\n",
       "      <td>4.211660e+01</td>\n",
       "      <td>-7.206660e+01</td>\n",
       "    </tr>\n",
       "  </tbody>\n",
       "</table>\n",
       "</div>"
      ],
      "text/plain": [
       "                Lat           Lon\n",
       "count  3.870483e+06  3.870483e+06\n",
       "mean   4.073915e+01 -7.397284e+01\n",
       "std    4.021090e-02  5.737043e-02\n",
       "min    3.965690e+01 -7.492900e+01\n",
       "25%    4.072090e+01 -7.399650e+01\n",
       "50%    4.074200e+01 -7.398340e+01\n",
       "75%    4.076090e+01 -7.396480e+01\n",
       "max    4.211660e+01 -7.206660e+01"
      ]
     },
     "execution_count": 358,
     "metadata": {},
     "output_type": "execute_result"
    }
   ],
   "source": [
    "all_months_data.describe()"
   ]
  },
  {
   "cell_type": "markdown",
   "metadata": {},
   "source": [
    "So from here we are going to work on around 4millions of uber datasets!!\n",
    "\n",
    "\n",
    "be excited!!"
   ]
  },
  {
   "cell_type": "code",
   "execution_count": 359,
   "metadata": {},
   "outputs": [
    {
     "name": "stdout",
     "output_type": "stream",
     "text": [
      "<class 'pandas.core.frame.DataFrame'>\n",
      "Int64Index: 3870483 entries, 0 to 1028135\n",
      "Data columns (total 4 columns):\n",
      "Date/Time    datetime64[ns]\n",
      "Lat          float64\n",
      "Lon          float64\n",
      "Base         object\n",
      "dtypes: datetime64[ns](1), float64(2), object(1)\n",
      "memory usage: 187.6+ MB\n"
     ]
    }
   ],
   "source": [
    "all_months_data.info()"
   ]
  },
  {
   "cell_type": "code",
   "execution_count": 360,
   "metadata": {},
   "outputs": [
    {
     "data": {
      "text/plain": [
       "Date/Time    0\n",
       "Lat          0\n",
       "Lon          0\n",
       "Base         0\n",
       "dtype: int64"
      ]
     },
     "execution_count": 360,
     "metadata": {},
     "output_type": "execute_result"
    }
   ],
   "source": [
    "all_months_data.isnull().sum()"
   ]
  },
  {
   "cell_type": "code",
   "execution_count": null,
   "metadata": {},
   "outputs": [],
   "source": []
  },
  {
   "cell_type": "code",
   "execution_count": null,
   "metadata": {},
   "outputs": [],
   "source": []
  },
  {
   "cell_type": "code",
   "execution_count": 392,
   "metadata": {},
   "outputs": [],
   "source": [
    "def get_dateOfMonth(dt1):\n",
    "    return dt1.month\n",
    "all_months_data['Month']= all_months_data['Date/Time'].map(get_dateOfMonth)"
   ]
  },
  {
   "cell_type": "code",
   "execution_count": 390,
   "metadata": {},
   "outputs": [],
   "source": [
    "def get_dayOfMonth(dt1):\n",
    "    return dt1.day\n",
    "all_months_data['DayOfMonth']= all_months_data['Date/Time'].map(get_dayOfMonth)"
   ]
  },
  {
   "cell_type": "code",
   "execution_count": 388,
   "metadata": {},
   "outputs": [],
   "source": [
    "def get_minute(dt1):\n",
    "    return dt1.minute\n",
    "all_months_data['minute']= all_months_data['Date/Time'].map(get_minute)"
   ]
  },
  {
   "cell_type": "code",
   "execution_count": 431,
   "metadata": {},
   "outputs": [],
   "source": [
    "def get_hour(dt1):\n",
    "    return dt1.hour\n",
    "all_months_data['Hour']= all_months_data['Date/Time'].map(get_hour)"
   ]
  },
  {
   "cell_type": "code",
   "execution_count": 517,
   "metadata": {},
   "outputs": [],
   "source": [
    "def get_weekday(dt1):\n",
    "    return dt1.weekday()\n",
    "all_months_data['WeekDaydff']= all_months_data['Date/Time'].map(get_weekday)"
   ]
  },
  {
   "cell_type": "code",
   "execution_count": 521,
   "metadata": {},
   "outputs": [
    {
     "data": {
      "text/html": [
       "<div>\n",
       "<style scoped>\n",
       "    .dataframe tbody tr th:only-of-type {\n",
       "        vertical-align: middle;\n",
       "    }\n",
       "\n",
       "    .dataframe tbody tr th {\n",
       "        vertical-align: top;\n",
       "    }\n",
       "\n",
       "    .dataframe thead th {\n",
       "        text-align: right;\n",
       "    }\n",
       "</style>\n",
       "<table border=\"1\" class=\"dataframe\">\n",
       "  <thead>\n",
       "    <tr style=\"text-align: right;\">\n",
       "      <th></th>\n",
       "      <th>Date/Time</th>\n",
       "      <th>Lat</th>\n",
       "      <th>Lon</th>\n",
       "      <th>Base</th>\n",
       "      <th>minute</th>\n",
       "      <th>DayOfMonth</th>\n",
       "      <th>Month</th>\n",
       "      <th>Hour</th>\n",
       "      <th>WeekDay</th>\n",
       "    </tr>\n",
       "  </thead>\n",
       "  <tbody>\n",
       "    <tr>\n",
       "      <td>0</td>\n",
       "      <td>2014-04-01 00:11:00</td>\n",
       "      <td>40.7690</td>\n",
       "      <td>-73.9549</td>\n",
       "      <td>B02512</td>\n",
       "      <td>11</td>\n",
       "      <td>1</td>\n",
       "      <td>4</td>\n",
       "      <td>0</td>\n",
       "      <td>1</td>\n",
       "    </tr>\n",
       "    <tr>\n",
       "      <td>1</td>\n",
       "      <td>2014-04-01 00:17:00</td>\n",
       "      <td>40.7267</td>\n",
       "      <td>-74.0345</td>\n",
       "      <td>B02512</td>\n",
       "      <td>17</td>\n",
       "      <td>1</td>\n",
       "      <td>4</td>\n",
       "      <td>0</td>\n",
       "      <td>1</td>\n",
       "    </tr>\n",
       "    <tr>\n",
       "      <td>2</td>\n",
       "      <td>2014-04-01 00:21:00</td>\n",
       "      <td>40.7316</td>\n",
       "      <td>-73.9873</td>\n",
       "      <td>B02512</td>\n",
       "      <td>21</td>\n",
       "      <td>1</td>\n",
       "      <td>4</td>\n",
       "      <td>0</td>\n",
       "      <td>1</td>\n",
       "    </tr>\n",
       "    <tr>\n",
       "      <td>3</td>\n",
       "      <td>2014-04-01 00:28:00</td>\n",
       "      <td>40.7588</td>\n",
       "      <td>-73.9776</td>\n",
       "      <td>B02512</td>\n",
       "      <td>28</td>\n",
       "      <td>1</td>\n",
       "      <td>4</td>\n",
       "      <td>0</td>\n",
       "      <td>1</td>\n",
       "    </tr>\n",
       "    <tr>\n",
       "      <td>4</td>\n",
       "      <td>2014-04-01 00:33:00</td>\n",
       "      <td>40.7594</td>\n",
       "      <td>-73.9722</td>\n",
       "      <td>B02512</td>\n",
       "      <td>33</td>\n",
       "      <td>1</td>\n",
       "      <td>4</td>\n",
       "      <td>0</td>\n",
       "      <td>1</td>\n",
       "    </tr>\n",
       "    <tr>\n",
       "      <td>...</td>\n",
       "      <td>...</td>\n",
       "      <td>...</td>\n",
       "      <td>...</td>\n",
       "      <td>...</td>\n",
       "      <td>...</td>\n",
       "      <td>...</td>\n",
       "      <td>...</td>\n",
       "      <td>...</td>\n",
       "      <td>...</td>\n",
       "    </tr>\n",
       "    <tr>\n",
       "      <td>3870478</td>\n",
       "      <td>2014-09-30 22:57:00</td>\n",
       "      <td>40.7668</td>\n",
       "      <td>-73.9845</td>\n",
       "      <td>B02764</td>\n",
       "      <td>57</td>\n",
       "      <td>30</td>\n",
       "      <td>9</td>\n",
       "      <td>22</td>\n",
       "      <td>1</td>\n",
       "    </tr>\n",
       "    <tr>\n",
       "      <td>3870479</td>\n",
       "      <td>2014-09-30 22:57:00</td>\n",
       "      <td>40.6911</td>\n",
       "      <td>-74.1773</td>\n",
       "      <td>B02764</td>\n",
       "      <td>57</td>\n",
       "      <td>30</td>\n",
       "      <td>9</td>\n",
       "      <td>22</td>\n",
       "      <td>1</td>\n",
       "    </tr>\n",
       "    <tr>\n",
       "      <td>3870480</td>\n",
       "      <td>2014-09-30 22:58:00</td>\n",
       "      <td>40.8519</td>\n",
       "      <td>-73.9319</td>\n",
       "      <td>B02764</td>\n",
       "      <td>58</td>\n",
       "      <td>30</td>\n",
       "      <td>9</td>\n",
       "      <td>22</td>\n",
       "      <td>1</td>\n",
       "    </tr>\n",
       "    <tr>\n",
       "      <td>3870481</td>\n",
       "      <td>2014-09-30 22:58:00</td>\n",
       "      <td>40.7081</td>\n",
       "      <td>-74.0066</td>\n",
       "      <td>B02764</td>\n",
       "      <td>58</td>\n",
       "      <td>30</td>\n",
       "      <td>9</td>\n",
       "      <td>22</td>\n",
       "      <td>1</td>\n",
       "    </tr>\n",
       "    <tr>\n",
       "      <td>3870482</td>\n",
       "      <td>2014-09-30 22:58:00</td>\n",
       "      <td>40.7140</td>\n",
       "      <td>-73.9496</td>\n",
       "      <td>B02764</td>\n",
       "      <td>58</td>\n",
       "      <td>30</td>\n",
       "      <td>9</td>\n",
       "      <td>22</td>\n",
       "      <td>1</td>\n",
       "    </tr>\n",
       "  </tbody>\n",
       "</table>\n",
       "<p>3870483 rows × 9 columns</p>\n",
       "</div>"
      ],
      "text/plain": [
       "                  Date/Time      Lat      Lon    Base  minute  DayOfMonth  \\\n",
       "0       2014-04-01 00:11:00  40.7690 -73.9549  B02512      11           1   \n",
       "1       2014-04-01 00:17:00  40.7267 -74.0345  B02512      17           1   \n",
       "2       2014-04-01 00:21:00  40.7316 -73.9873  B02512      21           1   \n",
       "3       2014-04-01 00:28:00  40.7588 -73.9776  B02512      28           1   \n",
       "4       2014-04-01 00:33:00  40.7594 -73.9722  B02512      33           1   \n",
       "...                     ...      ...      ...     ...     ...         ...   \n",
       "3870478 2014-09-30 22:57:00  40.7668 -73.9845  B02764      57          30   \n",
       "3870479 2014-09-30 22:57:00  40.6911 -74.1773  B02764      57          30   \n",
       "3870480 2014-09-30 22:58:00  40.8519 -73.9319  B02764      58          30   \n",
       "3870481 2014-09-30 22:58:00  40.7081 -74.0066  B02764      58          30   \n",
       "3870482 2014-09-30 22:58:00  40.7140 -73.9496  B02764      58          30   \n",
       "\n",
       "         Month  Hour  WeekDay  \n",
       "0            4     0        1  \n",
       "1            4     0        1  \n",
       "2            4     0        1  \n",
       "3            4     0        1  \n",
       "4            4     0        1  \n",
       "...        ...   ...      ...  \n",
       "3870478      9    22        1  \n",
       "3870479      9    22        1  \n",
       "3870480      9    22        1  \n",
       "3870481      9    22        1  \n",
       "3870482      9    22        1  \n",
       "\n",
       "[3870483 rows x 9 columns]"
      ]
     },
     "execution_count": 521,
     "metadata": {},
     "output_type": "execute_result"
    }
   ],
   "source": [
    "# all_months_data.drop(columns= 'WeekDaydff', inplace = True)\n",
    "all_months_data"
   ]
  },
  {
   "cell_type": "code",
   "execution_count": 396,
   "metadata": {},
   "outputs": [],
   "source": [
    "# all_months_data.drop(columns= 'DateOfMonth', inplace = True)"
   ]
  },
  {
   "cell_type": "code",
   "execution_count": 345,
   "metadata": {},
   "outputs": [
    {
     "data": {
      "text/plain": [
       "0         2014-04-01 00:11:00\n",
       "1         2014-04-01 00:17:00\n",
       "2         2014-04-01 00:21:00\n",
       "3         2014-04-01 00:28:00\n",
       "4         2014-04-01 00:33:00\n",
       "                  ...        \n",
       "1028131   2014-09-30 22:57:00\n",
       "1028132   2014-09-30 22:57:00\n",
       "1028133   2014-09-30 22:58:00\n",
       "1028134   2014-09-30 22:58:00\n",
       "1028135   2014-09-30 22:58:00\n",
       "Name: Date/Time, Length: 3870483, dtype: datetime64[ns]"
      ]
     },
     "execution_count": 345,
     "metadata": {},
     "output_type": "execute_result"
    }
   ],
   "source": [
    "all_months_data['Date/Time']"
   ]
  },
  {
   "cell_type": "code",
   "execution_count": 397,
   "metadata": {},
   "outputs": [],
   "source": [
    "dtx= all_months_data['Date/Time'][1]"
   ]
  },
  {
   "cell_type": "code",
   "execution_count": 398,
   "metadata": {},
   "outputs": [
    {
     "data": {
      "text/plain": [
       "Timestamp('2014-04-01 00:17:00')"
      ]
     },
     "execution_count": 398,
     "metadata": {},
     "output_type": "execute_result"
    }
   ],
   "source": [
    "dtx"
   ]
  },
  {
   "cell_type": "code",
   "execution_count": 399,
   "metadata": {},
   "outputs": [
    {
     "data": {
      "image/png": "[encoded data removed]",
      "text/plain": [
       "<Figure size 432x288 with 1 Axes>"
      ]
     },
     "metadata": {
      "needs_background": "light"
     },
     "output_type": "display_data"
    }
   ],
   "source": [
    "plt.scatter(all_months_data.Lat, all_months_data.Lon)\n",
    "plt.show()"
   ]
  },
  {
   "cell_type": "code",
   "execution_count": 401,
   "metadata": {},
   "outputs": [
    {
     "data": {
      "text/plain": [
       "(array([388480., 392392., 391201., 384350., 387540., 385982., 387274.,\n",
       "        386418., 382376., 384470.]),\n",
       " array([ 0. ,  5.9, 11.8, 17.7, 23.6, 29.5, 35.4, 41.3, 47.2, 53.1, 59. ]),\n",
       " <a list of 10 Patch objects>)"
      ]
     },
     "execution_count": 401,
     "metadata": {},
     "output_type": "execute_result"
    },
    {
     "data": {
      "image/png": "[encoded data removed]",
      "text/plain": [
       "<Figure size 432x288 with 1 Axes>"
      ]
     },
     "metadata": {
      "needs_background": "light"
     },
     "output_type": "display_data"
    }
   ],
   "source": [
    "plt.hist(all_months_data.minute.values)"
   ]
  },
  {
   "cell_type": "markdown",
   "metadata": {},
   "source": [
    "#### How to create a groupby function from the counting the lenth of the dataset and then use it as groupby function!!"
   ]
  },
  {
   "cell_type": "code",
   "execution_count": 402,
   "metadata": {},
   "outputs": [],
   "source": [
    "def count_rows(rows):\n",
    "    return len(rows)"
   ]
  },
  {
   "cell_type": "code",
   "execution_count": 404,
   "metadata": {},
   "outputs": [
    {
     "data": {
      "text/plain": [
       "3870483"
      ]
     },
     "execution_count": 404,
     "metadata": {},
     "output_type": "execute_result"
    }
   ],
   "source": [
    "count_rows(all_months_data)"
   ]
  },
  {
   "cell_type": "code",
   "execution_count": 417,
   "metadata": {},
   "outputs": [],
   "source": [
    "def count_columns(columns):\n",
    "    return all_months_data.shape[1]"
   ]
  },
  {
   "cell_type": "code",
   "execution_count": 418,
   "metadata": {},
   "outputs": [
    {
     "data": {
      "text/plain": [
       "7"
      ]
     },
     "execution_count": 418,
     "metadata": {},
     "output_type": "execute_result"
    }
   ],
   "source": [
    "count_columns(all_months_data)"
   ]
  },
  {
   "cell_type": "code",
   "execution_count": 422,
   "metadata": {},
   "outputs": [
    {
     "data": {
      "text/plain": [
       "Month\n",
       "4     564516\n",
       "5     652435\n",
       "7     796121\n",
       "8     829275\n",
       "9    1028136\n",
       "dtype: int64"
      ]
     },
     "execution_count": 422,
     "metadata": {},
     "output_type": "execute_result"
    }
   ],
   "source": [
    "by_date= all_months_data.groupby('Month').apply(count_rows)\n",
    "by_date"
   ]
  },
  {
   "cell_type": "code",
   "execution_count": 423,
   "metadata": {},
   "outputs": [
    {
     "data": {
      "image/png": "[encoded data removed]",
      "text/plain": [
       "<Figure size 432x288 with 1 Axes>"
      ]
     },
     "metadata": {
      "needs_background": "light"
     },
     "output_type": "display_data"
    }
   ],
   "source": [
    "by_date.plot()\n",
    "plt.show()"
   ]
  },
  {
   "cell_type": "markdown",
   "metadata": {},
   "source": [
    "in the month of September we got most data around 1 million!!"
   ]
  },
  {
   "cell_type": "code",
   "execution_count": null,
   "metadata": {},
   "outputs": [],
   "source": [
    "by_day= all_months_data.groupby('DayOfMonth').apply(count_rows)\n",
    "by_day.head()"
   ]
  },
  {
   "cell_type": "code",
   "execution_count": 427,
   "metadata": {},
   "outputs": [
    {
     "data": {
      "image/png": "[encoded data removed]",
      "text/plain": [
       "<Figure size 432x288 with 1 Axes>"
      ]
     },
     "metadata": {
      "needs_background": "light"
     },
     "output_type": "display_data"
    }
   ],
   "source": [
    "by_day.plot()\n",
    "plt.show()"
   ]
  },
  {
   "cell_type": "markdown",
   "metadata": {},
   "source": [
    "most of the uber was taken at the last day of the month, around ~ 150000!!"
   ]
  },
  {
   "cell_type": "code",
   "execution_count": 428,
   "metadata": {},
   "outputs": [
    {
     "data": {
      "text/plain": [
       "Index(['Date/Time', 'Lat', 'Lon', 'Base', 'minute', 'DayOfMonth', 'Month'], dtype='object')"
      ]
     },
     "execution_count": 428,
     "metadata": {},
     "output_type": "execute_result"
    }
   ],
   "source": [
    "all_months_data.columns"
   ]
  },
  {
   "cell_type": "code",
   "execution_count": 468,
   "metadata": {},
   "outputs": [
    {
     "data": {
      "text/plain": [
       "minute\n",
       "0    65160\n",
       "1    64781\n",
       "2    64720\n",
       "3    64311\n",
       "4    64252\n",
       "dtype: int64"
      ]
     },
     "execution_count": 468,
     "metadata": {},
     "output_type": "execute_result"
    }
   ],
   "source": [
    "by_min= all_months_data.groupby('minute').apply(count_rows)\n",
    "by_min.head()"
   ]
  },
  {
   "cell_type": "code",
   "execution_count": 467,
   "metadata": {},
   "outputs": [
    {
     "data": {
      "text/plain": [
       "Hour\n",
       "0    89322\n",
       "1    58060\n",
       "2    39676\n",
       "3    41350\n",
       "4    47529\n",
       "dtype: int64"
      ]
     },
     "execution_count": 467,
     "metadata": {},
     "output_type": "execute_result"
    }
   ],
   "source": [
    "by_hour= all_months_data.groupby('Hour').apply(count_rows)\n",
    "by_hour.head()"
   ]
  },
  {
   "cell_type": "code",
   "execution_count": 434,
   "metadata": {},
   "outputs": [
    {
     "data": {
      "image/png": "[encoded data removed]",
      "text/plain": [
       "<Figure size 432x288 with 1 Axes>"
      ]
     },
     "metadata": {
      "needs_background": "light"
     },
     "output_type": "display_data"
    }
   ],
   "source": [
    "by_hour.plot()\n",
    "plt.show()"
   ]
  },
  {
   "cell_type": "markdown",
   "metadata": {},
   "source": [
    "most of the uber cabs was booked during the evening from around 3pm to 18pm."
   ]
  },
  {
   "cell_type": "code",
   "execution_count": 430,
   "metadata": {},
   "outputs": [
    {
     "data": {
      "image/png": "[encoded data removed]",
      "text/plain": [
       "<Figure size 432x288 with 1 Axes>"
      ]
     },
     "metadata": {
      "needs_background": "light"
     },
     "output_type": "display_data"
    }
   ],
   "source": [
    "by_min.plot()\n",
    "plt.show()"
   ]
  },
  {
   "cell_type": "markdown",
   "metadata": {},
   "source": [
    "At 3:10 pm the hike is so high, so uber driver should be very ready the fill the demand of that time !!"
   ]
  },
  {
   "cell_type": "code",
   "execution_count": 466,
   "metadata": {},
   "outputs": [
    {
     "data": {
      "text/plain": [
       "minute\n",
       "49    63075\n",
       "51    63404\n",
       "53    63454\n",
       "46    63693\n",
       "54    63715\n",
       "dtype: int64"
      ]
     },
     "execution_count": 466,
     "metadata": {},
     "output_type": "execute_result"
    }
   ],
   "source": [
    "sorted_min= by_min.sort_values()\n",
    "sorted_min.head()"
   ]
  },
  {
   "cell_type": "code",
   "execution_count": 447,
   "metadata": {},
   "outputs": [
    {
     "data": {
      "text/plain": [
       "<matplotlib.axes._subplots.AxesSubplot at 0x2f5cfce0488>"
      ]
     },
     "execution_count": 447,
     "metadata": {},
     "output_type": "execute_result"
    },
    {
     "data": {
      "image/png": "[encoded data removed]",
      "text/plain": [
       "<Figure size 432x288 with 1 Axes>"
      ]
     },
     "metadata": {
      "needs_background": "light"
     },
     "output_type": "display_data"
    }
   ],
   "source": [
    "sorted_min.plot()"
   ]
  },
  {
   "cell_type": "code",
   "execution_count": 458,
   "metadata": {},
   "outputs": [],
   "source": [
    "hr1= all_months_data.Hour"
   ]
  },
  {
   "cell_type": "code",
   "execution_count": 459,
   "metadata": {},
   "outputs": [
    {
     "data": {
      "text/plain": [
       "<matplotlib.axes._subplots.AxesSubplot at 0x2f5d01a2988>"
      ]
     },
     "execution_count": 459,
     "metadata": {},
     "output_type": "execute_result"
    },
    {
     "data": {
      "image/png": "[encoded data removed]",
      "text/plain": [
       "<Figure size 432x288 with 1 Axes>"
      ]
     },
     "metadata": {
      "needs_background": "light"
     },
     "output_type": "display_data"
    }
   ],
   "source": [
    "hr1.hist(bins= 24)"
   ]
  },
  {
   "cell_type": "markdown",
   "metadata": {},
   "source": [
    "most of the cars booked at evening around 15pm to 21 pmm!!"
   ]
  },
  {
   "cell_type": "code",
   "execution_count": 462,
   "metadata": {},
   "outputs": [],
   "source": [
    "day1= all_months_data.DayOfMonth"
   ]
  },
  {
   "cell_type": "code",
   "execution_count": 465,
   "metadata": {},
   "outputs": [
    {
     "data": {
      "text/plain": [
       "<matplotlib.axes._subplots.AxesSubplot at 0x2f5e667bdc8>"
      ]
     },
     "execution_count": 465,
     "metadata": {},
     "output_type": "execute_result"
    },
    {
     "data": {
      "image/png": "[encoded data removed]",
      "text/plain": [
       "<Figure size 432x288 with 1 Axes>"
      ]
     },
     "metadata": {
      "needs_background": "light"
     },
     "output_type": "display_data"
    }
   ],
   "source": [
    "day1.hist(bins= 31)"
   ]
  },
  {
   "cell_type": "code",
   "execution_count": 471,
   "metadata": {},
   "outputs": [],
   "source": [
    "lat_lon= all_months_data['Lat'].groupby(all_months_data['Lon'])"
   ]
  },
  {
   "cell_type": "code",
   "execution_count": 481,
   "metadata": {},
   "outputs": [
    {
     "data": {
      "text/html": [
       "<div>\n",
       "<style scoped>\n",
       "    .dataframe tbody tr th:only-of-type {\n",
       "        vertical-align: middle;\n",
       "    }\n",
       "\n",
       "    .dataframe tbody tr th {\n",
       "        vertical-align: top;\n",
       "    }\n",
       "\n",
       "    .dataframe thead th {\n",
       "        text-align: right;\n",
       "    }\n",
       "</style>\n",
       "<table border=\"1\" class=\"dataframe\">\n",
       "  <thead>\n",
       "    <tr style=\"text-align: right;\">\n",
       "      <th></th>\n",
       "      <th>count</th>\n",
       "      <th>mean</th>\n",
       "      <th>std</th>\n",
       "      <th>min</th>\n",
       "      <th>25%</th>\n",
       "      <th>50%</th>\n",
       "      <th>75%</th>\n",
       "      <th>max</th>\n",
       "    </tr>\n",
       "    <tr>\n",
       "      <th>Lon</th>\n",
       "      <th></th>\n",
       "      <th></th>\n",
       "      <th></th>\n",
       "      <th></th>\n",
       "      <th></th>\n",
       "      <th></th>\n",
       "      <th></th>\n",
       "      <th></th>\n",
       "    </tr>\n",
       "  </thead>\n",
       "  <tbody>\n",
       "    <tr>\n",
       "      <td>-74.9290</td>\n",
       "      <td>1.0</td>\n",
       "      <td>40.3928</td>\n",
       "      <td>NaN</td>\n",
       "      <td>40.3928</td>\n",
       "      <td>40.3928</td>\n",
       "      <td>40.3928</td>\n",
       "      <td>40.3928</td>\n",
       "      <td>40.3928</td>\n",
       "    </tr>\n",
       "    <tr>\n",
       "      <td>-74.8260</td>\n",
       "      <td>1.0</td>\n",
       "      <td>40.8655</td>\n",
       "      <td>NaN</td>\n",
       "      <td>40.8655</td>\n",
       "      <td>40.8655</td>\n",
       "      <td>40.8655</td>\n",
       "      <td>40.8655</td>\n",
       "      <td>40.8655</td>\n",
       "    </tr>\n",
       "    <tr>\n",
       "      <td>-74.8258</td>\n",
       "      <td>1.0</td>\n",
       "      <td>40.8677</td>\n",
       "      <td>NaN</td>\n",
       "      <td>40.8677</td>\n",
       "      <td>40.8677</td>\n",
       "      <td>40.8677</td>\n",
       "      <td>40.8677</td>\n",
       "      <td>40.8677</td>\n",
       "    </tr>\n",
       "    <tr>\n",
       "      <td>-74.7737</td>\n",
       "      <td>1.0</td>\n",
       "      <td>40.6407</td>\n",
       "      <td>NaN</td>\n",
       "      <td>40.6407</td>\n",
       "      <td>40.6407</td>\n",
       "      <td>40.6407</td>\n",
       "      <td>40.6407</td>\n",
       "      <td>40.6407</td>\n",
       "    </tr>\n",
       "    <tr>\n",
       "      <td>-74.7736</td>\n",
       "      <td>1.0</td>\n",
       "      <td>40.6406</td>\n",
       "      <td>NaN</td>\n",
       "      <td>40.6406</td>\n",
       "      <td>40.6406</td>\n",
       "      <td>40.6406</td>\n",
       "      <td>40.6406</td>\n",
       "      <td>40.6406</td>\n",
       "    </tr>\n",
       "    <tr>\n",
       "      <td>...</td>\n",
       "      <td>...</td>\n",
       "      <td>...</td>\n",
       "      <td>...</td>\n",
       "      <td>...</td>\n",
       "      <td>...</td>\n",
       "      <td>...</td>\n",
       "      <td>...</td>\n",
       "      <td>...</td>\n",
       "    </tr>\n",
       "    <tr>\n",
       "      <td>-72.3304</td>\n",
       "      <td>1.0</td>\n",
       "      <td>40.8916</td>\n",
       "      <td>NaN</td>\n",
       "      <td>40.8916</td>\n",
       "      <td>40.8916</td>\n",
       "      <td>40.8916</td>\n",
       "      <td>40.8916</td>\n",
       "      <td>40.8916</td>\n",
       "    </tr>\n",
       "    <tr>\n",
       "      <td>-72.3097</td>\n",
       "      <td>1.0</td>\n",
       "      <td>40.8999</td>\n",
       "      <td>NaN</td>\n",
       "      <td>40.8999</td>\n",
       "      <td>40.8999</td>\n",
       "      <td>40.8999</td>\n",
       "      <td>40.8999</td>\n",
       "      <td>40.8999</td>\n",
       "    </tr>\n",
       "    <tr>\n",
       "      <td>-72.2999</td>\n",
       "      <td>1.0</td>\n",
       "      <td>40.9434</td>\n",
       "      <td>NaN</td>\n",
       "      <td>40.9434</td>\n",
       "      <td>40.9434</td>\n",
       "      <td>40.9434</td>\n",
       "      <td>40.9434</td>\n",
       "      <td>40.9434</td>\n",
       "    </tr>\n",
       "    <tr>\n",
       "      <td>-72.1801</td>\n",
       "      <td>1.0</td>\n",
       "      <td>41.0198</td>\n",
       "      <td>NaN</td>\n",
       "      <td>41.0198</td>\n",
       "      <td>41.0198</td>\n",
       "      <td>41.0198</td>\n",
       "      <td>41.0198</td>\n",
       "      <td>41.0198</td>\n",
       "    </tr>\n",
       "    <tr>\n",
       "      <td>-72.0666</td>\n",
       "      <td>1.0</td>\n",
       "      <td>42.1166</td>\n",
       "      <td>NaN</td>\n",
       "      <td>42.1166</td>\n",
       "      <td>42.1166</td>\n",
       "      <td>42.1166</td>\n",
       "      <td>42.1166</td>\n",
       "      <td>42.1166</td>\n",
       "    </tr>\n",
       "  </tbody>\n",
       "</table>\n",
       "<p>11116 rows × 8 columns</p>\n",
       "</div>"
      ],
      "text/plain": [
       "          count     mean  std      min      25%      50%      75%      max\n",
       "Lon                                                                       \n",
       "-74.9290    1.0  40.3928  NaN  40.3928  40.3928  40.3928  40.3928  40.3928\n",
       "-74.8260    1.0  40.8655  NaN  40.8655  40.8655  40.8655  40.8655  40.8655\n",
       "-74.8258    1.0  40.8677  NaN  40.8677  40.8677  40.8677  40.8677  40.8677\n",
       "-74.7737    1.0  40.6407  NaN  40.6407  40.6407  40.6407  40.6407  40.6407\n",
       "-74.7736    1.0  40.6406  NaN  40.6406  40.6406  40.6406  40.6406  40.6406\n",
       "...         ...      ...  ...      ...      ...      ...      ...      ...\n",
       "-72.3304    1.0  40.8916  NaN  40.8916  40.8916  40.8916  40.8916  40.8916\n",
       "-72.3097    1.0  40.8999  NaN  40.8999  40.8999  40.8999  40.8999  40.8999\n",
       "-72.2999    1.0  40.9434  NaN  40.9434  40.9434  40.9434  40.9434  40.9434\n",
       "-72.1801    1.0  41.0198  NaN  41.0198  41.0198  41.0198  41.0198  41.0198\n",
       "-72.0666    1.0  42.1166  NaN  42.1166  42.1166  42.1166  42.1166  42.1166\n",
       "\n",
       "[11116 rows x 8 columns]"
      ]
     },
     "execution_count": 481,
     "metadata": {},
     "output_type": "execute_result"
    }
   ],
   "source": [
    "lat_lon.describe()"
   ]
  },
  {
   "cell_type": "code",
   "execution_count": 495,
   "metadata": {},
   "outputs": [
    {
     "data": {
      "text/plain": [
       "21"
      ]
     },
     "execution_count": 495,
     "metadata": {},
     "output_type": "execute_result"
    }
   ],
   "source": [
    "all_months_data['WeekDay'].unique.v"
   ]
  },
  {
   "cell_type": "code",
   "execution_count": 500,
   "metadata": {},
   "outputs": [
    {
     "data": {
      "text/plain": [
       "7"
      ]
     },
     "execution_count": 500,
     "metadata": {},
     "output_type": "execute_result"
    }
   ],
   "source": [
    "len(pd.unique(all_months_data['WeekDay']))"
   ]
  },
  {
   "cell_type": "code",
   "execution_count": 505,
   "metadata": {},
   "outputs": [
    {
     "ename": "TypeError",
     "evalue": "nunique() got an unexpected keyword argument 'axis'",
     "output_type": "error",
     "traceback": [
      "\u001b[1;31m---------------------------------------------------------------------------\u001b[0m",
      "\u001b[1;31mTypeError\u001b[0m                                 Traceback (most recent call last)",
      "\u001b[1;32m<ipython-input-505-c0b11f740f17>\u001b[0m in \u001b[0;36m<module>\u001b[1;34m\u001b[0m\n\u001b[1;32m----> 1\u001b[1;33m \u001b[0mall_months_data\u001b[0m\u001b[1;33m[\u001b[0m\u001b[1;34m'WeekDay'\u001b[0m\u001b[1;33m]\u001b[0m\u001b[1;33m.\u001b[0m\u001b[0mnunique\u001b[0m\u001b[1;33m(\u001b[0m\u001b[0maxis\u001b[0m\u001b[1;33m=\u001b[0m\u001b[1;36m1\u001b[0m\u001b[1;33m)\u001b[0m\u001b[1;33m\u001b[0m\u001b[1;33m\u001b[0m\u001b[0m\n\u001b[0m",
      "\u001b[1;31mTypeError\u001b[0m: nunique() got an unexpected keyword argument 'axis'"
     ]
    }
   ],
   "source": [
    "all_months_data['WeekDay'].nunique(axis=1)"
   ]
  },
  {
   "cell_type": "code",
   "execution_count": 522,
   "metadata": {},
   "outputs": [
    {
     "data": {
      "text/plain": [
       "0          1\n",
       "1          1\n",
       "2          1\n",
       "3          1\n",
       "4          1\n",
       "          ..\n",
       "3870478    1\n",
       "3870479    1\n",
       "3870480    1\n",
       "3870481    1\n",
       "3870482    1\n",
       "Name: WeekDay, Length: 3870483, dtype: int64"
      ]
     },
     "execution_count": 522,
     "metadata": {},
     "output_type": "execute_result"
    }
   ],
   "source": [
    "# Dataframe.col_name.nunique()\n",
    "all_months_data.WeekDay"
   ]
  },
  {
   "cell_type": "code",
   "execution_count": 545,
   "metadata": {},
   "outputs": [
    {
     "data": {
      "image/png": "[encoded data removed]",
      "text/plain": [
       "<Figure size 432x288 with 1 Axes>"
      ]
     },
     "metadata": {
      "needs_background": "light"
     },
     "output_type": "display_data"
    }
   ],
   "source": [
    "hist(all_months_data.WeekDay, bins= 7, range=(-.5, 6.5), rwidth= .8, color= 'red', alpha= 0.4)\n",
    "xlabel('weekdays')\n",
    "ylabel('frequencies')\n",
    "xticks(range(7), 'MOn, Tue, Wed, Thurs, Fri, Sat, Sun'. split())\n",
    "plt.show()"
   ]
  },
  {
   "cell_type": "markdown",
   "metadata": {},
   "source": [
    "so from our graph we cann see that on wednesday and thursday highest numbers of cabs booked!!"
   ]
  },
  {
   "cell_type": "code",
   "execution_count": null,
   "metadata": {},
   "outputs": [],
   "source": [
    "# bar(all_months_data.WeekDay, height= 10, width=6)\n",
    "# xlabel('weekdays')\n",
    "# ylabel('frequencies')\n",
    "# plt.show()"
   ]
  },
  {
   "cell_type": "code",
   "execution_count": 550,
   "metadata": {},
   "outputs": [],
   "source": [
    "dx_wd= all_months_data.WeekDay\n",
    "pie_labels= ['MOn, Tue, Wed, Thurs, Fri, Sat, Sun']"
   ]
  },
  {
   "cell_type": "code",
   "execution_count": null,
   "metadata": {},
   "outputs": [],
   "source": [
    "# plt.pie(dx_wd )  pie chart is taking lot of time time to execute\n",
    "!!"
   ]
  },
  {
   "cell_type": "markdown",
   "metadata": {},
   "source": [
    "## cross analysing of oour datasets!!"
   ]
  },
  {
   "cell_type": "code",
   "execution_count": 555,
   "metadata": {},
   "outputs": [
    {
     "data": {
      "text/html": [
       "<div>\n",
       "<style scoped>\n",
       "    .dataframe tbody tr th:only-of-type {\n",
       "        vertical-align: middle;\n",
       "    }\n",
       "\n",
       "    .dataframe tbody tr th {\n",
       "        vertical-align: top;\n",
       "    }\n",
       "\n",
       "    .dataframe thead th {\n",
       "        text-align: right;\n",
       "    }\n",
       "</style>\n",
       "<table border=\"1\" class=\"dataframe\">\n",
       "  <thead>\n",
       "    <tr style=\"text-align: right;\">\n",
       "      <th></th>\n",
       "      <th>Date/Time</th>\n",
       "      <th>Lat</th>\n",
       "      <th>Lon</th>\n",
       "      <th>Base</th>\n",
       "      <th>minute</th>\n",
       "      <th>DayOfMonth</th>\n",
       "      <th>Month</th>\n",
       "      <th>Hour</th>\n",
       "      <th>WeekDay</th>\n",
       "    </tr>\n",
       "  </thead>\n",
       "  <tbody>\n",
       "    <tr>\n",
       "      <td>0</td>\n",
       "      <td>2014-04-01 00:11:00</td>\n",
       "      <td>40.7690</td>\n",
       "      <td>-73.9549</td>\n",
       "      <td>B02512</td>\n",
       "      <td>11</td>\n",
       "      <td>1</td>\n",
       "      <td>4</td>\n",
       "      <td>0</td>\n",
       "      <td>1</td>\n",
       "    </tr>\n",
       "    <tr>\n",
       "      <td>1</td>\n",
       "      <td>2014-04-01 00:17:00</td>\n",
       "      <td>40.7267</td>\n",
       "      <td>-74.0345</td>\n",
       "      <td>B02512</td>\n",
       "      <td>17</td>\n",
       "      <td>1</td>\n",
       "      <td>4</td>\n",
       "      <td>0</td>\n",
       "      <td>1</td>\n",
       "    </tr>\n",
       "    <tr>\n",
       "      <td>2</td>\n",
       "      <td>2014-04-01 00:21:00</td>\n",
       "      <td>40.7316</td>\n",
       "      <td>-73.9873</td>\n",
       "      <td>B02512</td>\n",
       "      <td>21</td>\n",
       "      <td>1</td>\n",
       "      <td>4</td>\n",
       "      <td>0</td>\n",
       "      <td>1</td>\n",
       "    </tr>\n",
       "    <tr>\n",
       "      <td>3</td>\n",
       "      <td>2014-04-01 00:28:00</td>\n",
       "      <td>40.7588</td>\n",
       "      <td>-73.9776</td>\n",
       "      <td>B02512</td>\n",
       "      <td>28</td>\n",
       "      <td>1</td>\n",
       "      <td>4</td>\n",
       "      <td>0</td>\n",
       "      <td>1</td>\n",
       "    </tr>\n",
       "    <tr>\n",
       "      <td>4</td>\n",
       "      <td>2014-04-01 00:33:00</td>\n",
       "      <td>40.7594</td>\n",
       "      <td>-73.9722</td>\n",
       "      <td>B02512</td>\n",
       "      <td>33</td>\n",
       "      <td>1</td>\n",
       "      <td>4</td>\n",
       "      <td>0</td>\n",
       "      <td>1</td>\n",
       "    </tr>\n",
       "    <tr>\n",
       "      <td>...</td>\n",
       "      <td>...</td>\n",
       "      <td>...</td>\n",
       "      <td>...</td>\n",
       "      <td>...</td>\n",
       "      <td>...</td>\n",
       "      <td>...</td>\n",
       "      <td>...</td>\n",
       "      <td>...</td>\n",
       "      <td>...</td>\n",
       "    </tr>\n",
       "    <tr>\n",
       "      <td>3870478</td>\n",
       "      <td>2014-09-30 22:57:00</td>\n",
       "      <td>40.7668</td>\n",
       "      <td>-73.9845</td>\n",
       "      <td>B02764</td>\n",
       "      <td>57</td>\n",
       "      <td>30</td>\n",
       "      <td>9</td>\n",
       "      <td>22</td>\n",
       "      <td>1</td>\n",
       "    </tr>\n",
       "    <tr>\n",
       "      <td>3870479</td>\n",
       "      <td>2014-09-30 22:57:00</td>\n",
       "      <td>40.6911</td>\n",
       "      <td>-74.1773</td>\n",
       "      <td>B02764</td>\n",
       "      <td>57</td>\n",
       "      <td>30</td>\n",
       "      <td>9</td>\n",
       "      <td>22</td>\n",
       "      <td>1</td>\n",
       "    </tr>\n",
       "    <tr>\n",
       "      <td>3870480</td>\n",
       "      <td>2014-09-30 22:58:00</td>\n",
       "      <td>40.8519</td>\n",
       "      <td>-73.9319</td>\n",
       "      <td>B02764</td>\n",
       "      <td>58</td>\n",
       "      <td>30</td>\n",
       "      <td>9</td>\n",
       "      <td>22</td>\n",
       "      <td>1</td>\n",
       "    </tr>\n",
       "    <tr>\n",
       "      <td>3870481</td>\n",
       "      <td>2014-09-30 22:58:00</td>\n",
       "      <td>40.7081</td>\n",
       "      <td>-74.0066</td>\n",
       "      <td>B02764</td>\n",
       "      <td>58</td>\n",
       "      <td>30</td>\n",
       "      <td>9</td>\n",
       "      <td>22</td>\n",
       "      <td>1</td>\n",
       "    </tr>\n",
       "    <tr>\n",
       "      <td>3870482</td>\n",
       "      <td>2014-09-30 22:58:00</td>\n",
       "      <td>40.7140</td>\n",
       "      <td>-73.9496</td>\n",
       "      <td>B02764</td>\n",
       "      <td>58</td>\n",
       "      <td>30</td>\n",
       "      <td>9</td>\n",
       "      <td>22</td>\n",
       "      <td>1</td>\n",
       "    </tr>\n",
       "  </tbody>\n",
       "</table>\n",
       "<p>3870483 rows × 9 columns</p>\n",
       "</div>"
      ],
      "text/plain": [
       "                  Date/Time      Lat      Lon    Base  minute  DayOfMonth  \\\n",
       "0       2014-04-01 00:11:00  40.7690 -73.9549  B02512      11           1   \n",
       "1       2014-04-01 00:17:00  40.7267 -74.0345  B02512      17           1   \n",
       "2       2014-04-01 00:21:00  40.7316 -73.9873  B02512      21           1   \n",
       "3       2014-04-01 00:28:00  40.7588 -73.9776  B02512      28           1   \n",
       "4       2014-04-01 00:33:00  40.7594 -73.9722  B02512      33           1   \n",
       "...                     ...      ...      ...     ...     ...         ...   \n",
       "3870478 2014-09-30 22:57:00  40.7668 -73.9845  B02764      57          30   \n",
       "3870479 2014-09-30 22:57:00  40.6911 -74.1773  B02764      57          30   \n",
       "3870480 2014-09-30 22:58:00  40.8519 -73.9319  B02764      58          30   \n",
       "3870481 2014-09-30 22:58:00  40.7081 -74.0066  B02764      58          30   \n",
       "3870482 2014-09-30 22:58:00  40.7140 -73.9496  B02764      58          30   \n",
       "\n",
       "         Month  Hour  WeekDay  \n",
       "0            4     0        1  \n",
       "1            4     0        1  \n",
       "2            4     0        1  \n",
       "3            4     0        1  \n",
       "4            4     0        1  \n",
       "...        ...   ...      ...  \n",
       "3870478      9    22        1  \n",
       "3870479      9    22        1  \n",
       "3870480      9    22        1  \n",
       "3870481      9    22        1  \n",
       "3870482      9    22        1  \n",
       "\n",
       "[3870483 rows x 9 columns]"
      ]
     },
     "execution_count": 555,
     "metadata": {},
     "output_type": "execute_result"
    }
   ],
   "source": [
    "dx"
   ]
  },
  {
   "cell_type": "markdown",
   "metadata": {},
   "source": [
    "group by function to create a hour and week day of the whole datasets!!"
   ]
  },
  {
   "cell_type": "code",
   "execution_count": 575,
   "metadata": {},
   "outputs": [],
   "source": [
    "dx_wh= dx.groupby('WeekDay Hour'.split()).apply(count_rows).unstack()  ## This is amazing!!"
   ]
  },
  {
   "cell_type": "markdown",
   "metadata": {},
   "source": [
    "how to rename thbe index values in pandas?"
   ]
  },
  {
   "cell_type": "code",
   "execution_count": 576,
   "metadata": {},
   "outputs": [
    {
     "data": {
      "text/html": [
       "<div>\n",
       "<style scoped>\n",
       "    .dataframe tbody tr th:only-of-type {\n",
       "        vertical-align: middle;\n",
       "    }\n",
       "\n",
       "    .dataframe tbody tr th {\n",
       "        vertical-align: top;\n",
       "    }\n",
       "\n",
       "    .dataframe thead th {\n",
       "        text-align: right;\n",
       "    }\n",
       "</style>\n",
       "<table border=\"1\" class=\"dataframe\">\n",
       "  <thead>\n",
       "    <tr style=\"text-align: right;\">\n",
       "      <th>Hour</th>\n",
       "      <th>0</th>\n",
       "      <th>1</th>\n",
       "      <th>2</th>\n",
       "      <th>3</th>\n",
       "      <th>4</th>\n",
       "      <th>5</th>\n",
       "      <th>6</th>\n",
       "      <th>7</th>\n",
       "      <th>8</th>\n",
       "      <th>9</th>\n",
       "      <th>...</th>\n",
       "      <th>14</th>\n",
       "      <th>15</th>\n",
       "      <th>16</th>\n",
       "      <th>17</th>\n",
       "      <th>18</th>\n",
       "      <th>19</th>\n",
       "      <th>20</th>\n",
       "      <th>21</th>\n",
       "      <th>22</th>\n",
       "      <th>23</th>\n",
       "    </tr>\n",
       "    <tr>\n",
       "      <th>WeekDay</th>\n",
       "      <th></th>\n",
       "      <th></th>\n",
       "      <th></th>\n",
       "      <th></th>\n",
       "      <th></th>\n",
       "      <th></th>\n",
       "      <th></th>\n",
       "      <th></th>\n",
       "      <th></th>\n",
       "      <th></th>\n",
       "      <th></th>\n",
       "      <th></th>\n",
       "      <th></th>\n",
       "      <th></th>\n",
       "      <th></th>\n",
       "      <th></th>\n",
       "      <th></th>\n",
       "      <th></th>\n",
       "      <th></th>\n",
       "      <th></th>\n",
       "      <th></th>\n",
       "    </tr>\n",
       "  </thead>\n",
       "  <tbody>\n",
       "    <tr>\n",
       "      <td>0</td>\n",
       "      <td>5524</td>\n",
       "      <td>3225</td>\n",
       "      <td>2518</td>\n",
       "      <td>5183</td>\n",
       "      <td>7928</td>\n",
       "      <td>12285</td>\n",
       "      <td>19072</td>\n",
       "      <td>24821</td>\n",
       "      <td>23294</td>\n",
       "      <td>17933</td>\n",
       "      <td>...</td>\n",
       "      <td>23227</td>\n",
       "      <td>26986</td>\n",
       "      <td>31787</td>\n",
       "      <td>34717</td>\n",
       "      <td>31259</td>\n",
       "      <td>28916</td>\n",
       "      <td>27495</td>\n",
       "      <td>24154</td>\n",
       "      <td>16928</td>\n",
       "      <td>9900</td>\n",
       "    </tr>\n",
       "    <tr>\n",
       "      <td>1</td>\n",
       "      <td>5515</td>\n",
       "      <td>3094</td>\n",
       "      <td>2280</td>\n",
       "      <td>3987</td>\n",
       "      <td>6664</td>\n",
       "      <td>12561</td>\n",
       "      <td>23361</td>\n",
       "      <td>31535</td>\n",
       "      <td>29596</td>\n",
       "      <td>21948</td>\n",
       "      <td>...</td>\n",
       "      <td>30107</td>\n",
       "      <td>35536</td>\n",
       "      <td>41443</td>\n",
       "      <td>47388</td>\n",
       "      <td>43608</td>\n",
       "      <td>39518</td>\n",
       "      <td>38741</td>\n",
       "      <td>34445</td>\n",
       "      <td>24058</td>\n",
       "      <td>12889</td>\n",
       "    </tr>\n",
       "    <tr>\n",
       "      <td>2</td>\n",
       "      <td>6648</td>\n",
       "      <td>3802</td>\n",
       "      <td>2747</td>\n",
       "      <td>4211</td>\n",
       "      <td>6574</td>\n",
       "      <td>12077</td>\n",
       "      <td>23110</td>\n",
       "      <td>30868</td>\n",
       "      <td>29033</td>\n",
       "      <td>22068</td>\n",
       "      <td>...</td>\n",
       "      <td>29862</td>\n",
       "      <td>36827</td>\n",
       "      <td>43054</td>\n",
       "      <td>47442</td>\n",
       "      <td>45365</td>\n",
       "      <td>41034</td>\n",
       "      <td>41133</td>\n",
       "      <td>38028</td>\n",
       "      <td>27740</td>\n",
       "      <td>15451</td>\n",
       "    </tr>\n",
       "    <tr>\n",
       "      <td>3</td>\n",
       "      <td>7930</td>\n",
       "      <td>4539</td>\n",
       "      <td>3240</td>\n",
       "      <td>4886</td>\n",
       "      <td>7389</td>\n",
       "      <td>12061</td>\n",
       "      <td>22710</td>\n",
       "      <td>31045</td>\n",
       "      <td>29734</td>\n",
       "      <td>23455</td>\n",
       "      <td>...</td>\n",
       "      <td>31111</td>\n",
       "      <td>37511</td>\n",
       "      <td>42900</td>\n",
       "      <td>48016</td>\n",
       "      <td>47879</td>\n",
       "      <td>44671</td>\n",
       "      <td>43621</td>\n",
       "      <td>43735</td>\n",
       "      <td>37039</td>\n",
       "      <td>23495</td>\n",
       "    </tr>\n",
       "    <tr>\n",
       "      <td>4</td>\n",
       "      <td>11880</td>\n",
       "      <td>7051</td>\n",
       "      <td>4663</td>\n",
       "      <td>5978</td>\n",
       "      <td>7558</td>\n",
       "      <td>11612</td>\n",
       "      <td>19947</td>\n",
       "      <td>26939</td>\n",
       "      <td>26340</td>\n",
       "      <td>21296</td>\n",
       "      <td>...</td>\n",
       "      <td>30961</td>\n",
       "      <td>37268</td>\n",
       "      <td>40902</td>\n",
       "      <td>43820</td>\n",
       "      <td>46820</td>\n",
       "      <td>43581</td>\n",
       "      <td>38377</td>\n",
       "      <td>42333</td>\n",
       "      <td>42955</td>\n",
       "      <td>35666</td>\n",
       "    </tr>\n",
       "    <tr>\n",
       "      <td>5</td>\n",
       "      <td>24083</td>\n",
       "      <td>16827</td>\n",
       "      <td>11235</td>\n",
       "      <td>8244</td>\n",
       "      <td>6002</td>\n",
       "      <td>6173</td>\n",
       "      <td>7442</td>\n",
       "      <td>9623</td>\n",
       "      <td>12509</td>\n",
       "      <td>15226</td>\n",
       "      <td>...</td>\n",
       "      <td>27491</td>\n",
       "      <td>33975</td>\n",
       "      <td>37742</td>\n",
       "      <td>37871</td>\n",
       "      <td>40747</td>\n",
       "      <td>36805</td>\n",
       "      <td>34139</td>\n",
       "      <td>38292</td>\n",
       "      <td>41410</td>\n",
       "      <td>37313</td>\n",
       "    </tr>\n",
       "    <tr>\n",
       "      <td>6</td>\n",
       "      <td>27742</td>\n",
       "      <td>19522</td>\n",
       "      <td>12993</td>\n",
       "      <td>8861</td>\n",
       "      <td>5414</td>\n",
       "      <td>5215</td>\n",
       "      <td>5541</td>\n",
       "      <td>7429</td>\n",
       "      <td>10227</td>\n",
       "      <td>13743</td>\n",
       "      <td>...</td>\n",
       "      <td>23438</td>\n",
       "      <td>25777</td>\n",
       "      <td>27410</td>\n",
       "      <td>26484</td>\n",
       "      <td>23988</td>\n",
       "      <td>21785</td>\n",
       "      <td>20990</td>\n",
       "      <td>19682</td>\n",
       "      <td>16114</td>\n",
       "      <td>10294</td>\n",
       "    </tr>\n",
       "  </tbody>\n",
       "</table>\n",
       "<p>7 rows × 24 columns</p>\n",
       "</div>"
      ],
      "text/plain": [
       "Hour        0      1      2     3     4      5      6      7      8      9   \\\n",
       "WeekDay                                                                       \n",
       "0         5524   3225   2518  5183  7928  12285  19072  24821  23294  17933   \n",
       "1         5515   3094   2280  3987  6664  12561  23361  31535  29596  21948   \n",
       "2         6648   3802   2747  4211  6574  12077  23110  30868  29033  22068   \n",
       "3         7930   4539   3240  4886  7389  12061  22710  31045  29734  23455   \n",
       "4        11880   7051   4663  5978  7558  11612  19947  26939  26340  21296   \n",
       "5        24083  16827  11235  8244  6002   6173   7442   9623  12509  15226   \n",
       "6        27742  19522  12993  8861  5414   5215   5541   7429  10227  13743   \n",
       "\n",
       "Hour     ...     14     15     16     17     18     19     20     21     22  \\\n",
       "WeekDay  ...                                                                  \n",
       "0        ...  23227  26986  31787  34717  31259  28916  27495  24154  16928   \n",
       "1        ...  30107  35536  41443  47388  43608  39518  38741  34445  24058   \n",
       "2        ...  29862  36827  43054  47442  45365  41034  41133  38028  27740   \n",
       "3        ...  31111  37511  42900  48016  47879  44671  43621  43735  37039   \n",
       "4        ...  30961  37268  40902  43820  46820  43581  38377  42333  42955   \n",
       "5        ...  27491  33975  37742  37871  40747  36805  34139  38292  41410   \n",
       "6        ...  23438  25777  27410  26484  23988  21785  20990  19682  16114   \n",
       "\n",
       "Hour        23  \n",
       "WeekDay         \n",
       "0         9900  \n",
       "1        12889  \n",
       "2        15451  \n",
       "3        23495  \n",
       "4        35666  \n",
       "5        37313  \n",
       "6        10294  \n",
       "\n",
       "[7 rows x 24 columns]"
      ]
     },
     "execution_count": 576,
     "metadata": {},
     "output_type": "execute_result"
    }
   ],
   "source": [
    "dx_wh.rename(index={'0': 'Monday', '1': 'Tuesday'})"
   ]
  },
  {
   "cell_type": "code",
   "execution_count": 590,
   "metadata": {},
   "outputs": [],
   "source": [
    "dx_wh.index.rename('0','MOn')  # Not find the right way to chamge the index names !!"
   ]
  },
  {
   "cell_type": "code",
   "execution_count": 607,
   "metadata": {},
   "outputs": [
    {
     "data": {
      "text/html": [
       "<div>\n",
       "<style scoped>\n",
       "    .dataframe tbody tr th:only-of-type {\n",
       "        vertical-align: middle;\n",
       "    }\n",
       "\n",
       "    .dataframe tbody tr th {\n",
       "        vertical-align: top;\n",
       "    }\n",
       "\n",
       "    .dataframe thead th {\n",
       "        text-align: right;\n",
       "    }\n",
       "</style>\n",
       "<table border=\"1\" class=\"dataframe\">\n",
       "  <thead>\n",
       "    <tr style=\"text-align: right;\">\n",
       "      <th>Hour</th>\n",
       "      <th>0</th>\n",
       "      <th>1</th>\n",
       "      <th>2</th>\n",
       "      <th>3</th>\n",
       "      <th>4</th>\n",
       "      <th>5</th>\n",
       "      <th>6</th>\n",
       "      <th>7</th>\n",
       "      <th>8</th>\n",
       "      <th>9</th>\n",
       "      <th>...</th>\n",
       "      <th>14</th>\n",
       "      <th>15</th>\n",
       "      <th>16</th>\n",
       "      <th>17</th>\n",
       "      <th>18</th>\n",
       "      <th>19</th>\n",
       "      <th>20</th>\n",
       "      <th>21</th>\n",
       "      <th>22</th>\n",
       "      <th>23</th>\n",
       "    </tr>\n",
       "    <tr>\n",
       "      <th>0</th>\n",
       "      <th></th>\n",
       "      <th></th>\n",
       "      <th></th>\n",
       "      <th></th>\n",
       "      <th></th>\n",
       "      <th></th>\n",
       "      <th></th>\n",
       "      <th></th>\n",
       "      <th></th>\n",
       "      <th></th>\n",
       "      <th></th>\n",
       "      <th></th>\n",
       "      <th></th>\n",
       "      <th></th>\n",
       "      <th></th>\n",
       "      <th></th>\n",
       "      <th></th>\n",
       "      <th></th>\n",
       "      <th></th>\n",
       "      <th></th>\n",
       "      <th></th>\n",
       "    </tr>\n",
       "  </thead>\n",
       "  <tbody>\n",
       "    <tr>\n",
       "      <td>0</td>\n",
       "      <td>5524</td>\n",
       "      <td>3225</td>\n",
       "      <td>2518</td>\n",
       "      <td>5183</td>\n",
       "      <td>7928</td>\n",
       "      <td>12285</td>\n",
       "      <td>19072</td>\n",
       "      <td>24821</td>\n",
       "      <td>23294</td>\n",
       "      <td>17933</td>\n",
       "      <td>...</td>\n",
       "      <td>23227</td>\n",
       "      <td>26986</td>\n",
       "      <td>31787</td>\n",
       "      <td>34717</td>\n",
       "      <td>31259</td>\n",
       "      <td>28916</td>\n",
       "      <td>27495</td>\n",
       "      <td>24154</td>\n",
       "      <td>16928</td>\n",
       "      <td>9900</td>\n",
       "    </tr>\n",
       "    <tr>\n",
       "      <td>1</td>\n",
       "      <td>5515</td>\n",
       "      <td>3094</td>\n",
       "      <td>2280</td>\n",
       "      <td>3987</td>\n",
       "      <td>6664</td>\n",
       "      <td>12561</td>\n",
       "      <td>23361</td>\n",
       "      <td>31535</td>\n",
       "      <td>29596</td>\n",
       "      <td>21948</td>\n",
       "      <td>...</td>\n",
       "      <td>30107</td>\n",
       "      <td>35536</td>\n",
       "      <td>41443</td>\n",
       "      <td>47388</td>\n",
       "      <td>43608</td>\n",
       "      <td>39518</td>\n",
       "      <td>38741</td>\n",
       "      <td>34445</td>\n",
       "      <td>24058</td>\n",
       "      <td>12889</td>\n",
       "    </tr>\n",
       "    <tr>\n",
       "      <td>2</td>\n",
       "      <td>6648</td>\n",
       "      <td>3802</td>\n",
       "      <td>2747</td>\n",
       "      <td>4211</td>\n",
       "      <td>6574</td>\n",
       "      <td>12077</td>\n",
       "      <td>23110</td>\n",
       "      <td>30868</td>\n",
       "      <td>29033</td>\n",
       "      <td>22068</td>\n",
       "      <td>...</td>\n",
       "      <td>29862</td>\n",
       "      <td>36827</td>\n",
       "      <td>43054</td>\n",
       "      <td>47442</td>\n",
       "      <td>45365</td>\n",
       "      <td>41034</td>\n",
       "      <td>41133</td>\n",
       "      <td>38028</td>\n",
       "      <td>27740</td>\n",
       "      <td>15451</td>\n",
       "    </tr>\n",
       "    <tr>\n",
       "      <td>3</td>\n",
       "      <td>7930</td>\n",
       "      <td>4539</td>\n",
       "      <td>3240</td>\n",
       "      <td>4886</td>\n",
       "      <td>7389</td>\n",
       "      <td>12061</td>\n",
       "      <td>22710</td>\n",
       "      <td>31045</td>\n",
       "      <td>29734</td>\n",
       "      <td>23455</td>\n",
       "      <td>...</td>\n",
       "      <td>31111</td>\n",
       "      <td>37511</td>\n",
       "      <td>42900</td>\n",
       "      <td>48016</td>\n",
       "      <td>47879</td>\n",
       "      <td>44671</td>\n",
       "      <td>43621</td>\n",
       "      <td>43735</td>\n",
       "      <td>37039</td>\n",
       "      <td>23495</td>\n",
       "    </tr>\n",
       "    <tr>\n",
       "      <td>4</td>\n",
       "      <td>11880</td>\n",
       "      <td>7051</td>\n",
       "      <td>4663</td>\n",
       "      <td>5978</td>\n",
       "      <td>7558</td>\n",
       "      <td>11612</td>\n",
       "      <td>19947</td>\n",
       "      <td>26939</td>\n",
       "      <td>26340</td>\n",
       "      <td>21296</td>\n",
       "      <td>...</td>\n",
       "      <td>30961</td>\n",
       "      <td>37268</td>\n",
       "      <td>40902</td>\n",
       "      <td>43820</td>\n",
       "      <td>46820</td>\n",
       "      <td>43581</td>\n",
       "      <td>38377</td>\n",
       "      <td>42333</td>\n",
       "      <td>42955</td>\n",
       "      <td>35666</td>\n",
       "    </tr>\n",
       "    <tr>\n",
       "      <td>5</td>\n",
       "      <td>24083</td>\n",
       "      <td>16827</td>\n",
       "      <td>11235</td>\n",
       "      <td>8244</td>\n",
       "      <td>6002</td>\n",
       "      <td>6173</td>\n",
       "      <td>7442</td>\n",
       "      <td>9623</td>\n",
       "      <td>12509</td>\n",
       "      <td>15226</td>\n",
       "      <td>...</td>\n",
       "      <td>27491</td>\n",
       "      <td>33975</td>\n",
       "      <td>37742</td>\n",
       "      <td>37871</td>\n",
       "      <td>40747</td>\n",
       "      <td>36805</td>\n",
       "      <td>34139</td>\n",
       "      <td>38292</td>\n",
       "      <td>41410</td>\n",
       "      <td>37313</td>\n",
       "    </tr>\n",
       "    <tr>\n",
       "      <td>6</td>\n",
       "      <td>27742</td>\n",
       "      <td>19522</td>\n",
       "      <td>12993</td>\n",
       "      <td>8861</td>\n",
       "      <td>5414</td>\n",
       "      <td>5215</td>\n",
       "      <td>5541</td>\n",
       "      <td>7429</td>\n",
       "      <td>10227</td>\n",
       "      <td>13743</td>\n",
       "      <td>...</td>\n",
       "      <td>23438</td>\n",
       "      <td>25777</td>\n",
       "      <td>27410</td>\n",
       "      <td>26484</td>\n",
       "      <td>23988</td>\n",
       "      <td>21785</td>\n",
       "      <td>20990</td>\n",
       "      <td>19682</td>\n",
       "      <td>16114</td>\n",
       "      <td>10294</td>\n",
       "    </tr>\n",
       "  </tbody>\n",
       "</table>\n",
       "<p>7 rows × 24 columns</p>\n",
       "</div>"
      ],
      "text/plain": [
       "Hour     0      1      2     3     4      5      6      7      8      9   ...  \\\n",
       "0                                                                         ...   \n",
       "0      5524   3225   2518  5183  7928  12285  19072  24821  23294  17933  ...   \n",
       "1      5515   3094   2280  3987  6664  12561  23361  31535  29596  21948  ...   \n",
       "2      6648   3802   2747  4211  6574  12077  23110  30868  29033  22068  ...   \n",
       "3      7930   4539   3240  4886  7389  12061  22710  31045  29734  23455  ...   \n",
       "4     11880   7051   4663  5978  7558  11612  19947  26939  26340  21296  ...   \n",
       "5     24083  16827  11235  8244  6002   6173   7442   9623  12509  15226  ...   \n",
       "6     27742  19522  12993  8861  5414   5215   5541   7429  10227  13743  ...   \n",
       "\n",
       "Hour     14     15     16     17     18     19     20     21     22     23  \n",
       "0                                                                           \n",
       "0     23227  26986  31787  34717  31259  28916  27495  24154  16928   9900  \n",
       "1     30107  35536  41443  47388  43608  39518  38741  34445  24058  12889  \n",
       "2     29862  36827  43054  47442  45365  41034  41133  38028  27740  15451  \n",
       "3     31111  37511  42900  48016  47879  44671  43621  43735  37039  23495  \n",
       "4     30961  37268  40902  43820  46820  43581  38377  42333  42955  35666  \n",
       "5     27491  33975  37742  37871  40747  36805  34139  38292  41410  37313  \n",
       "6     23438  25777  27410  26484  23988  21785  20990  19682  16114  10294  \n",
       "\n",
       "[7 rows x 24 columns]"
      ]
     },
     "execution_count": 607,
     "metadata": {},
     "output_type": "execute_result"
    }
   ],
   "source": [
    "\n",
    "dx_wh"
   ]
  },
  {
   "cell_type": "code",
   "execution_count": 612,
   "metadata": {},
   "outputs": [
    {
     "data": {
      "text/plain": [
       "Text(33.0, 0.5, 'WeekDays')"
      ]
     },
     "execution_count": 612,
     "metadata": {},
     "output_type": "execute_result"
    },
    {
     "data": {
      "image/png": "[encoded data removed]",
      "text/plain": [
       "<Figure size 432x288 with 2 Axes>"
      ]
     },
     "metadata": {
      "needs_background": "light"
     },
     "output_type": "display_data"
    }
   ],
   "source": [
    "sns.heatmap(dx_wh)\n",
    "xlabel('hours')\n",
    "ylabel('WeekDays')"
   ]
  },
  {
   "cell_type": "markdown",
   "metadata": {},
   "source": [
    "Analysing the Latitudes and longitudes!!"
   ]
  },
  {
   "cell_type": "code",
   "execution_count": 621,
   "metadata": {},
   "outputs": [
    {
     "data": {
      "image/png": "[encoded data removed]",
      "text/plain": [
       "<Figure size 432x288 with 1 Axes>"
      ]
     },
     "metadata": {
      "needs_background": "light"
     },
     "output_type": "display_data"
    }
   ],
   "source": [
    "hist(dx.Lat, bins=100,  range= (40.5, 41))\n",
    "plt.show()"
   ]
  },
  {
   "cell_type": "code",
   "execution_count": 630,
   "metadata": {},
   "outputs": [
    {
     "data": {
      "image/png": "[encoded data removed]",
      "text/plain": [
       "<Figure size 432x288 with 1 Axes>"
      ]
     },
     "metadata": {
      "needs_background": "light"
     },
     "output_type": "display_data"
    }
   ],
   "source": [
    "hist(dx.Lon, bins=100,  range= (-74.1, -73.9))\n",
    "plt.show()"
   ]
  },
  {
   "cell_type": "code",
   "execution_count": 637,
   "metadata": {},
   "outputs": [
    {
     "data": {
      "image/png": "[encoded data removed]",
      "text/plain": [
       "<Figure size 432x288 with 1 Axes>"
      ]
     },
     "metadata": {
      "needs_background": "light"
     },
     "output_type": "display_data"
    }
   ],
   "source": [
    "hist(dx.Lon, bins= 105, color= 'green')\n",
    "plt.show()"
   ]
  },
  {
   "cell_type": "markdown",
   "metadata": {},
   "source": [
    "ATTACHING TWOO GRAPHS TOGETHER!!"
   ]
  },
  {
   "cell_type": "code",
   "execution_count": 659,
   "metadata": {},
   "outputs": [
    {
     "data": {
      "image/png": "[encoded data removed]",
      "text/plain": [
       "<Figure size 432x288 with 2 Axes>"
      ]
     },
     "metadata": {
      "needs_background": "light"
     },
     "output_type": "display_data"
    }
   ],
   "source": [
    "hist(dx.Lon, bins= 100, range=(-74.1, -73.9), color= 'green', label= 'Longitude')\n",
    "legend(loc='upper right')\n",
    "twiny()\n",
    "hist(dx.Lat, bins=100,  range= (40.5, 41.5), color= 'red', label= 'Latitude')\n",
    "legend(loc= 'upper left')\n",
    "\n",
    "plt.show()"
   ]
  },
  {
   "cell_type": "code",
   "execution_count": 663,
   "metadata": {},
   "outputs": [
    {
     "data": {
      "image/png": "[encoded data removed]",
      "text/plain": [
       "<Figure size 432x288 with 1 Axes>"
      ]
     },
     "metadata": {
      "needs_background": "light"
     },
     "output_type": "display_data"
    }
   ],
   "source": [
    "plot(dx.Lon )\n",
    "xlim(0,100000)\n",
    "plt.show()"
   ]
  },
  {
   "cell_type": "code",
   "execution_count": 664,
   "metadata": {},
   "outputs": [
    {
     "data": {
      "image/png": "[encoded data removed]",
      "text/plain": [
       "<Figure size 432x288 with 1 Axes>"
      ]
     },
     "metadata": {
      "needs_background": "light"
     },
     "output_type": "display_data"
    }
   ],
   "source": [
    "plot(dx.Lat )\n",
    "xlim(0,100000)\n",
    "plt.show()"
   ]
  },
  {
   "cell_type": "code",
   "execution_count": 665,
   "metadata": {},
   "outputs": [
    {
     "data": {
      "text/plain": [
       "[<matplotlib.lines.Line2D at 0x2f6c11ae248>,\n",
       " <matplotlib.lines.Line2D at 0x2f6c11ae4c8>]"
      ]
     },
     "execution_count": 665,
     "metadata": {},
     "output_type": "execute_result"
    },
    {
     "data": {
      "image/png": "[encoded data removed]",
      "text/plain": [
       "<Figure size 432x288 with 1 Axes>"
      ]
     },
     "metadata": {
      "needs_background": "light"
     },
     "output_type": "display_data"
    }
   ],
   "source": [
    "plot(dx['Lat Lon'.split()])"
   ]
  },
  {
   "cell_type": "code",
   "execution_count": 668,
   "metadata": {},
   "outputs": [
    {
     "data": {
      "text/plain": [
       "[<matplotlib.lines.Line2D at 0x2f6c14339c8>]"
      ]
     },
     "execution_count": 668,
     "metadata": {},
     "output_type": "execute_result"
    },
    {
     "data": {
      "image/png": "[encoded data removed]",
      "text/plain": [
       "<Figure size 432x288 with 1 Axes>"
      ]
     },
     "metadata": {
      "needs_background": "light"
     },
     "output_type": "display_data"
    }
   ],
   "source": [
    "plot(dx['Lat'], dx['Lon'])"
   ]
  },
  {
   "cell_type": "code",
   "execution_count": 669,
   "metadata": {},
   "outputs": [],
   "source": [
    "# import matplotlib as mpl\n",
    "# mpl.rcParams['agg.path.chunksize'] = 10000  for increasing the chunl size of the plot!!"
   ]
  },
  {
   "cell_type": "code",
   "execution_count": 670,
   "metadata": {},
   "outputs": [
    {
     "data": {
      "text/plain": [
       "[<matplotlib.lines.Line2D at 0x2f6c1496f48>]"
      ]
     },
     "execution_count": 670,
     "metadata": {},
     "output_type": "execute_result"
    },
    {
     "data": {
      "image/png": "[encoded data removed]",
      "text/plain": [
       "<Figure size 432x288 with 1 Axes>"
      ]
     },
     "metadata": {
      "needs_background": "light"
     },
     "output_type": "display_data"
    }
   ],
   "source": [
    "plot(dx['Lat'], dx['Lon'], '.')"
   ]
  },
  {
   "cell_type": "code",
   "execution_count": 671,
   "metadata": {},
   "outputs": [
    {
     "data": {
      "text/plain": [
       "[<matplotlib.lines.Line2D at 0x2f6c3b8ad48>]"
      ]
     },
     "execution_count": 671,
     "metadata": {},
     "output_type": "execute_result"
    },
    {
     "data": {
      "image/png": "[encoded data removed]",
      "text/plain": [
       "<Figure size 432x288 with 1 Axes>"
      ]
     },
     "metadata": {
      "needs_background": "light"
     },
     "output_type": "display_data"
    }
   ],
   "source": [
    "plot(dx['Lat'], dx['Lon'], '.', alpha = 0.4)"
   ]
  },
  {
   "cell_type": "markdown",
   "metadata": {},
   "source": [
    "So from our Latitudianl and longitudinal graph we can understand that at the longitude from -74,0 to -72.5 and latidude from 40.5 to 41 the max area covered by cab"
   ]
  }
 ],
 "metadata": {
  "kernelspec": {
   "display_name": "Python 3",
   "language": "python",
   "name": "python3"
  },
  "language_info": {
   "codemirror_mode": {
    "name": "ipython",
    "version": 3
   },
   "file_extension": ".py",
   "mimetype": "text/x-python",
   "name": "python",
   "nbconvert_exporter": "python",
   "pygments_lexer": "ipython3",
   "version": "3.7.4"
  }
 },
 "nbformat": 4,
 "nbformat_minor": 2
}
